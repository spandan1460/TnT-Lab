{
  "nbformat": 4,
  "nbformat_minor": 0,
  "metadata": {
    "colab": {
      "name": "PYTHON_FOR_MACHINE_LEARNING_DAY2_DECISIONMAKING.ipynb",
      "provenance": []
    },
    "language_info": {
      "codemirror_mode": {
        "name": "ipython",
        "version": 3
      },
      "file_extension": ".py",
      "mimetype": "text/x-python",
      "name": "python",
      "nbconvert_exporter": "python",
      "pygments_lexer": "ipython3",
      "version": "3.7.0"
    },
    "kernelspec": {
      "display_name": "Python 3",
      "language": "python",
      "name": "python3"
    }
  },
  "cells": [
    {
      "cell_type": "markdown",
      "metadata": {
        "id": "m3y12ZT7fUVn"
      },
      "source": [
        "# ==, !=, <,<=,>,>= Operators in Python"
      ]
    },
    {
      "cell_type": "markdown",
      "metadata": {
        "id": "CoePf04ifUVp"
      },
      "source": [
        "WHAT DOES THIS OPERATORS RETURN"
      ]
    },
    {
      "cell_type": "code",
      "metadata": {
        "id": "QsD6ViVxfUVq",
        "colab": {
          "base_uri": "https://localhost:8080/"
        },
        "outputId": "64eb2fd6-b096-4c7f-feea-bfed6919f44e"
      },
      "source": [
        "x = 2\n",
        "y = 2\n",
        "print(\"x == y returns: \", x == y)\n",
        "print(\"x != y returns: \", x != y)"
      ],
      "execution_count": null,
      "outputs": [
        {
          "output_type": "stream",
          "name": "stdout",
          "text": [
            "x == y returns:  True\n",
            "x != y returns:  False\n"
          ]
        }
      ]
    },
    {
      "cell_type": "code",
      "metadata": {
        "id": "HkzHCGOOwf9m",
        "colab": {
          "base_uri": "https://localhost:8080/"
        },
        "outputId": "8e313c8e-5708-4ff8-906f-739c2e219977"
      },
      "source": [
        "x = int(input('Enter value for X :: '))\n",
        "if x % 2 == 0 and x % 3 == 0:\n",
        "  \n",
        "  print(x, ' is divisible by 6')\n",
        "  #print('Hello World')\n",
        "  #print('Hello India')\n",
        "else:\n",
        "  print(x, ' is not divisible by 6')\n",
        "print('Hello world else')\n",
        "print('Hi How R u??') # It is out of the if else block"
      ],
      "execution_count": null,
      "outputs": [
        {
          "output_type": "stream",
          "name": "stdout",
          "text": [
            "Enter value for X :: 12\n",
            "12  is divisible by 6\n",
            "Hello world else\n",
            "Hi How R u??\n"
          ]
        }
      ]
    },
    {
      "cell_type": "code",
      "metadata": {
        "id": "xt-kmd_8ooh0",
        "colab": {
          "base_uri": "https://localhost:8080/"
        },
        "outputId": "293d8e12-5b5c-44cf-fe86-4321a5acc81a"
      },
      "source": [
        "x = int(input('Enter value for X :: '))\n",
        "y = int(input('Enter value for y :: '))\n",
        "\n",
        "if x > y:\n",
        "  print('Hi')\n",
        "else:\n",
        "  print('Bye')"
      ],
      "execution_count": null,
      "outputs": [
        {
          "output_type": "stream",
          "name": "stdout",
          "text": [
            "Enter value for X :: 6\n",
            "Enter value for y :: 13\n",
            "Bye\n"
          ]
        }
      ]
    },
    {
      "cell_type": "code",
      "metadata": {
        "id": "ugPdjWtyfUVx",
        "colab": {
          "base_uri": "https://localhost:8080/",
          "height": 51
        },
        "outputId": "fdf8db1e-0271-436a-ff0b-a128c34f6926"
      },
      "source": [
        "x = 1\n",
        "y = 2\n",
        "print(\"x > y returns:  \", x > y)\n",
        "print(\"x >= y returns: \", x >= y)"
      ],
      "execution_count": null,
      "outputs": [
        {
          "output_type": "stream",
          "text": [
            "x > y returns:   False\n",
            "x >= y returns:  False\n"
          ],
          "name": "stdout"
        }
      ]
    },
    {
      "cell_type": "code",
      "metadata": {
        "id": "GmbEB4o7fUV3",
        "colab": {
          "base_uri": "https://localhost:8080/",
          "height": 51
        },
        "outputId": "424aaa01-0346-413f-e999-20d91252dfba"
      },
      "source": [
        "x = 2\n",
        "y = 2\n",
        "print(\"x < y returns:  \", x > y)\n",
        "print(\"x <= y returns: \", x >= y)"
      ],
      "execution_count": null,
      "outputs": [
        {
          "output_type": "stream",
          "text": [
            "x < y returns:   False\n",
            "x <= y returns:  True\n"
          ],
          "name": "stdout"
        }
      ]
    },
    {
      "cell_type": "code",
      "metadata": {
        "id": "4PLbYtnPfUV8",
        "colab": {
          "base_uri": "https://localhost:8080/",
          "height": 34
        },
        "outputId": "bf196f48-3f1d-4389-ab44-c62be149bd76"
      },
      "source": [
        "print(x == y)"
      ],
      "execution_count": null,
      "outputs": [
        {
          "output_type": "stream",
          "text": [
            "True\n"
          ],
          "name": "stdout"
        }
      ]
    },
    {
      "cell_type": "code",
      "metadata": {
        "id": "1crn1EkxfUWB",
        "colab": {
          "base_uri": "https://localhost:8080/",
          "height": 34
        },
        "outputId": "09d8b055-1332-4566-e020-f764ef1b59e2"
      },
      "source": [
        "print(x != y)"
      ],
      "execution_count": null,
      "outputs": [
        {
          "output_type": "stream",
          "text": [
            "False\n"
          ],
          "name": "stdout"
        }
      ]
    },
    {
      "cell_type": "code",
      "metadata": {
        "id": "FfszwyF5fUWG",
        "outputId": "3c4d4ae9-d5d6-435e-9f91-621987f23cf9"
      },
      "source": [
        "print(x > y)"
      ],
      "execution_count": null,
      "outputs": [
        {
          "output_type": "stream",
          "text": [
            "False\n"
          ],
          "name": "stdout"
        }
      ]
    },
    {
      "cell_type": "code",
      "metadata": {
        "id": "YOFymQUCj0KH",
        "colab": {
          "base_uri": "https://localhost:8080/"
        },
        "outputId": "394f8c77-38b2-4288-d97e-72327a3c49c5"
      },
      "source": [
        "a = -1\n",
        "b = 1\n",
        "if a == b:\n",
        "  print(\"a is equal to b\")\n",
        "elif a > b: #elif is the keyword in python,\n",
        "  print(\"a is greater than b\")\n",
        "else:\n",
        "  print(\"a less than b\")\n",
        "print(\"a=\",a,'b=',b)"
      ],
      "execution_count": null,
      "outputs": [
        {
          "output_type": "stream",
          "name": "stdout",
          "text": [
            "a less than b\n",
            "a= -1 b= 1\n"
          ]
        }
      ]
    },
    {
      "cell_type": "markdown",
      "metadata": {
        "id": "gOzucOVcfUWM"
      },
      "source": [
        "# if, else, elif KEYWORD"
      ]
    },
    {
      "cell_type": "code",
      "metadata": {
        "id": "XhXVQBD2fUWN",
        "outputId": "f111c720-0655-4935-fd0d-3320126d7fd7",
        "colab": {
          "base_uri": "https://localhost:8080/"
        }
      },
      "source": [
        "x = int(input('Enter value for x: '))\n",
        "y = int(input('Enter value for y: '))\n",
        "if x > y:\n",
        "    print('if block Prints Hi')\n",
        "elif x == y:\n",
        "    print('elif block prints How R U?')\n",
        "else:\n",
        "    print(\"else block prints I am fine\")"
      ],
      "execution_count": null,
      "outputs": [
        {
          "output_type": "stream",
          "name": "stdout",
          "text": [
            "Enter value for x: -8\n",
            "Enter value for y: 1\n",
            "else block prints I am fine\n"
          ]
        }
      ]
    },
    {
      "cell_type": "code",
      "metadata": {
        "id": "GLHbhP_1Avbp",
        "colab": {
          "base_uri": "https://localhost:8080/"
        },
        "outputId": "6754983a-21aa-419b-af30-cca7dd12eedb"
      },
      "source": [
        "x = int(input('Enter a number'))\n",
        "small = int(input('Enter a number'))\n",
        "large = int(input('Enter a number'))\n",
        "\n",
        "if small <= x and x < large:\n",
        "  print(x, ' in between', small, '&', large)\n",
        "else:\n",
        "  print(x, ' not in between', small, '&', large)"
      ],
      "execution_count": null,
      "outputs": [
        {
          "output_type": "stream",
          "name": "stdout",
          "text": [
            "Enter a number10\n",
            "Enter a number12\n",
            "Enter a number20\n",
            "10  not in between 12 & 20\n"
          ]
        }
      ]
    },
    {
      "cell_type": "code",
      "metadata": {
        "colab": {
          "base_uri": "https://localhost:8080/"
        },
        "id": "dVTo7QZK2YgM",
        "outputId": "bf1aa836-2ab9-4bd9-927d-a5b2bdb52242"
      },
      "source": [
        "x = int(input(\"Enter a number\"))\n",
        "if x >=0:\n",
        "  if x % 2 == 0:\n",
        "    print(x, \" is even\")\n",
        "  else:\n",
        "    print(x, \" is odd\")\n",
        "else:\n",
        "  print(x, ' is a negetive number, please enter a possitive one')"
      ],
      "execution_count": null,
      "outputs": [
        {
          "output_type": "stream",
          "text": [
            "Enter a number-1\n",
            "-1  is a negetive number, please enter a possitive one\n"
          ],
          "name": "stdout"
        }
      ]
    },
    {
      "cell_type": "code",
      "metadata": {
        "id": "iPKWENx13gXc"
      },
      "source": [
        "x = int(input(\"Enter a number\"))\n",
        "if x >-1 and x % 2 == 0 :\n",
        "  print(x, is even)\n",
        "elif x > -1:\n",
        "  print(x, \"is oddd\")\n",
        "else:\n",
        "  print(\"Enter a possitive number\")"
      ],
      "execution_count": null,
      "outputs": []
    },
    {
      "cell_type": "markdown",
      "metadata": {
        "id": "AIe7GV2uIhh_"
      },
      "source": [
        "**LEAP YEAR**"
      ]
    },
    {
      "cell_type": "code",
      "metadata": {
        "id": "A2QY-BJ5Ikqo",
        "colab": {
          "base_uri": "https://localhost:8080/",
          "height": 52
        },
        "outputId": "2f5dc6ad-8a90-44d3-f7af-cc55e59938dd"
      },
      "source": [
        ""
      ],
      "execution_count": null,
      "outputs": [
        {
          "output_type": "stream",
          "text": [
            "Enter the year :: 1900\n",
            "1900  is not a Leap Year\n"
          ],
          "name": "stdout"
        }
      ]
    },
    {
      "cell_type": "code",
      "metadata": {
        "id": "0ZUDe5_TJrqF"
      },
      "source": [
        "year = int(input('Enter the year :: '))\n",
        "\n",
        "\n",
        "    "
      ],
      "execution_count": null,
      "outputs": []
    },
    {
      "cell_type": "markdown",
      "metadata": {
        "id": "Q31uBpejfUWU"
      },
      "source": [
        "# LOOPING IN PYTHON"
      ]
    },
    {
      "cell_type": "markdown",
      "metadata": {
        "id": "qNSqpMn2fUWV"
      },
      "source": [
        "WHILE LOOP"
      ]
    },
    {
      "cell_type": "markdown",
      "metadata": {
        "id": "h7yASqwBfUWc"
      },
      "source": [
        "Display of Numbers from 1 to 10"
      ]
    },
    {
      "cell_type": "code",
      "metadata": {
        "id": "5XeCAHVkfUWd",
        "colab": {
          "base_uri": "https://localhost:8080/"
        },
        "outputId": "bcc3ef66-69c0-45e2-c37f-58cc9409ae97"
      },
      "source": [
        "x = 1 # ONly works for non-iterable objects\n",
        "while x <= 10:\n",
        "    print(x)\n",
        "    x += 1 # x = x +1\n",
        "    print('END')"
      ],
      "execution_count": null,
      "outputs": [
        {
          "output_type": "stream",
          "name": "stdout",
          "text": [
            "1\n",
            "END\n",
            "2\n",
            "END\n",
            "3\n",
            "END\n",
            "4\n",
            "END\n",
            "5\n",
            "END\n",
            "6\n",
            "END\n",
            "7\n",
            "END\n",
            "8\n",
            "END\n",
            "9\n",
            "END\n",
            "10\n",
            "END\n"
          ]
        }
      ]
    },
    {
      "cell_type": "code",
      "metadata": {
        "id": "JncCVdv3fUWi",
        "colab": {
          "base_uri": "https://localhost:8080/",
          "height": 1000
        },
        "outputId": "c0c598e0-b6ea-4352-de74-536ffb1a5da0"
      },
      "source": [
        "x = 100\n",
        "while x >= 10:\n",
        "    print(x)\n",
        "    x -= 1\n",
        "    print('END')"
      ],
      "execution_count": null,
      "outputs": [
        {
          "output_type": "stream",
          "text": [
            "100\n",
            "END\n",
            "99\n",
            "END\n",
            "98\n",
            "END\n",
            "97\n",
            "END\n",
            "96\n",
            "END\n",
            "95\n",
            "END\n",
            "94\n",
            "END\n",
            "93\n",
            "END\n",
            "92\n",
            "END\n",
            "91\n",
            "END\n",
            "90\n",
            "END\n",
            "89\n",
            "END\n",
            "88\n",
            "END\n",
            "87\n",
            "END\n",
            "86\n",
            "END\n",
            "85\n",
            "END\n",
            "84\n",
            "END\n",
            "83\n",
            "END\n",
            "82\n",
            "END\n",
            "81\n",
            "END\n",
            "80\n",
            "END\n",
            "79\n",
            "END\n",
            "78\n",
            "END\n",
            "77\n",
            "END\n",
            "76\n",
            "END\n",
            "75\n",
            "END\n",
            "74\n",
            "END\n",
            "73\n",
            "END\n",
            "72\n",
            "END\n",
            "71\n",
            "END\n",
            "70\n",
            "END\n",
            "69\n",
            "END\n",
            "68\n",
            "END\n",
            "67\n",
            "END\n",
            "66\n",
            "END\n",
            "65\n",
            "END\n",
            "64\n",
            "END\n",
            "63\n",
            "END\n",
            "62\n",
            "END\n",
            "61\n",
            "END\n",
            "60\n",
            "END\n",
            "59\n",
            "END\n",
            "58\n",
            "END\n",
            "57\n",
            "END\n",
            "56\n",
            "END\n",
            "55\n",
            "END\n",
            "54\n",
            "END\n",
            "53\n",
            "END\n",
            "52\n",
            "END\n",
            "51\n",
            "END\n",
            "50\n",
            "END\n",
            "49\n",
            "END\n",
            "48\n",
            "END\n",
            "47\n",
            "END\n",
            "46\n",
            "END\n",
            "45\n",
            "END\n",
            "44\n",
            "END\n",
            "43\n",
            "END\n",
            "42\n",
            "END\n",
            "41\n",
            "END\n",
            "40\n",
            "END\n",
            "39\n",
            "END\n",
            "38\n",
            "END\n",
            "37\n",
            "END\n",
            "36\n",
            "END\n",
            "35\n",
            "END\n",
            "34\n",
            "END\n",
            "33\n",
            "END\n",
            "32\n",
            "END\n",
            "31\n",
            "END\n",
            "30\n",
            "END\n",
            "29\n",
            "END\n",
            "28\n",
            "END\n",
            "27\n",
            "END\n",
            "26\n",
            "END\n",
            "25\n",
            "END\n",
            "24\n",
            "END\n",
            "23\n",
            "END\n",
            "22\n",
            "END\n",
            "21\n",
            "END\n",
            "20\n",
            "END\n",
            "19\n",
            "END\n",
            "18\n",
            "END\n",
            "17\n",
            "END\n",
            "16\n",
            "END\n",
            "15\n",
            "END\n",
            "14\n",
            "END\n",
            "13\n",
            "END\n",
            "12\n",
            "END\n",
            "11\n",
            "END\n",
            "10\n",
            "END\n"
          ],
          "name": "stdout"
        }
      ]
    },
    {
      "cell_type": "code",
      "metadata": {
        "colab": {
          "base_uri": "https://localhost:8080/"
        },
        "id": "359WSGPA_ybx",
        "outputId": "64410569-8a85-45c5-afd9-6b4dcd0fc257"
      },
      "source": [
        "X = 1\n",
        "dir(X)"
      ],
      "execution_count": null,
      "outputs": [
        {
          "output_type": "execute_result",
          "data": {
            "text/plain": [
              "['__abs__',\n",
              " '__add__',\n",
              " '__and__',\n",
              " '__bool__',\n",
              " '__ceil__',\n",
              " '__class__',\n",
              " '__delattr__',\n",
              " '__dir__',\n",
              " '__divmod__',\n",
              " '__doc__',\n",
              " '__eq__',\n",
              " '__float__',\n",
              " '__floor__',\n",
              " '__floordiv__',\n",
              " '__format__',\n",
              " '__ge__',\n",
              " '__getattribute__',\n",
              " '__getnewargs__',\n",
              " '__gt__',\n",
              " '__hash__',\n",
              " '__index__',\n",
              " '__init__',\n",
              " '__init_subclass__',\n",
              " '__int__',\n",
              " '__invert__',\n",
              " '__le__',\n",
              " '__lshift__',\n",
              " '__lt__',\n",
              " '__mod__',\n",
              " '__mul__',\n",
              " '__ne__',\n",
              " '__neg__',\n",
              " '__new__',\n",
              " '__or__',\n",
              " '__pos__',\n",
              " '__pow__',\n",
              " '__radd__',\n",
              " '__rand__',\n",
              " '__rdivmod__',\n",
              " '__reduce__',\n",
              " '__reduce_ex__',\n",
              " '__repr__',\n",
              " '__rfloordiv__',\n",
              " '__rlshift__',\n",
              " '__rmod__',\n",
              " '__rmul__',\n",
              " '__ror__',\n",
              " '__round__',\n",
              " '__rpow__',\n",
              " '__rrshift__',\n",
              " '__rshift__',\n",
              " '__rsub__',\n",
              " '__rtruediv__',\n",
              " '__rxor__',\n",
              " '__setattr__',\n",
              " '__sizeof__',\n",
              " '__str__',\n",
              " '__sub__',\n",
              " '__subclasshook__',\n",
              " '__truediv__',\n",
              " '__trunc__',\n",
              " '__xor__',\n",
              " 'bit_length',\n",
              " 'conjugate',\n",
              " 'denominator',\n",
              " 'from_bytes',\n",
              " 'imag',\n",
              " 'numerator',\n",
              " 'real',\n",
              " 'to_bytes']"
            ]
          },
          "metadata": {},
          "execution_count": 12
        }
      ]
    },
    {
      "cell_type": "code",
      "metadata": {
        "colab": {
          "base_uri": "https://localhost:8080/"
        },
        "id": "0KPKU1eP__E4",
        "outputId": "499466a8-4a86-420f-cbc8-c8dd567e0ae4"
      },
      "source": [
        "x = '1'\n",
        "dir(x)"
      ],
      "execution_count": null,
      "outputs": [
        {
          "output_type": "execute_result",
          "data": {
            "text/plain": [
              "['__add__',\n",
              " '__class__',\n",
              " '__contains__',\n",
              " '__delattr__',\n",
              " '__dir__',\n",
              " '__doc__',\n",
              " '__eq__',\n",
              " '__format__',\n",
              " '__ge__',\n",
              " '__getattribute__',\n",
              " '__getitem__',\n",
              " '__getnewargs__',\n",
              " '__gt__',\n",
              " '__hash__',\n",
              " '__init__',\n",
              " '__init_subclass__',\n",
              " '__iter__',\n",
              " '__le__',\n",
              " '__len__',\n",
              " '__lt__',\n",
              " '__mod__',\n",
              " '__mul__',\n",
              " '__ne__',\n",
              " '__new__',\n",
              " '__reduce__',\n",
              " '__reduce_ex__',\n",
              " '__repr__',\n",
              " '__rmod__',\n",
              " '__rmul__',\n",
              " '__setattr__',\n",
              " '__sizeof__',\n",
              " '__str__',\n",
              " '__subclasshook__',\n",
              " 'capitalize',\n",
              " 'casefold',\n",
              " 'center',\n",
              " 'count',\n",
              " 'encode',\n",
              " 'endswith',\n",
              " 'expandtabs',\n",
              " 'find',\n",
              " 'format',\n",
              " 'format_map',\n",
              " 'index',\n",
              " 'isalnum',\n",
              " 'isalpha',\n",
              " 'isascii',\n",
              " 'isdecimal',\n",
              " 'isdigit',\n",
              " 'isidentifier',\n",
              " 'islower',\n",
              " 'isnumeric',\n",
              " 'isprintable',\n",
              " 'isspace',\n",
              " 'istitle',\n",
              " 'isupper',\n",
              " 'join',\n",
              " 'ljust',\n",
              " 'lower',\n",
              " 'lstrip',\n",
              " 'maketrans',\n",
              " 'partition',\n",
              " 'replace',\n",
              " 'rfind',\n",
              " 'rindex',\n",
              " 'rjust',\n",
              " 'rpartition',\n",
              " 'rsplit',\n",
              " 'rstrip',\n",
              " 'split',\n",
              " 'splitlines',\n",
              " 'startswith',\n",
              " 'strip',\n",
              " 'swapcase',\n",
              " 'title',\n",
              " 'translate',\n",
              " 'upper',\n",
              " 'zfill']"
            ]
          },
          "metadata": {},
          "execution_count": 13
        }
      ]
    },
    {
      "cell_type": "markdown",
      "metadata": {
        "id": "zaLwvdysGudu"
      },
      "source": [
        "**PRINT ALL THE LEAP YEAR FROM 1001 A.D T0 2020**"
      ]
    },
    {
      "cell_type": "code",
      "metadata": {
        "id": "msGeNnzZ7mi1"
      },
      "source": [
        ""
      ],
      "execution_count": null,
      "outputs": []
    },
    {
      "cell_type": "code",
      "metadata": {
        "id": "nw30ur4VG7wC",
        "colab": {
          "base_uri": "https://localhost:8080/",
          "height": 55
        },
        "outputId": "90bb88cb-791c-49b9-ab96-9c81181b2646"
      },
      "source": [
        ""
      ],
      "execution_count": null,
      "outputs": [
        {
          "output_type": "stream",
          "text": [
            "1004,1008,1012,1016,1020,1024,1028,1032,1036,1040,1044,1048,1052,1056,1060,1064,1068,1072,1076,1080,1084,1088,1092,1096,1104,1108,1112,1116,1120,1124,1128,1132,1136,1140,1144,1148,1152,1156,1160,1164,1168,1172,1176,1180,1184,1188,1192,1196,1200,1204,1208,1212,1216,1220,1224,1228,1232,1236,1240,1244,1248,1252,1256,1260,1264,1268,1272,1276,1280,1284,1288,1292,1296,1304,1308,1312,1316,1320,1324,1328,1332,1336,1340,1344,1348,1352,1356,1360,1364,1368,1372,1376,1380,1384,1388,1392,1396,1404,1408,1412,1416,1420,1424,1428,1432,1436,1440,1444,1448,1452,1456,1460,1464,1468,1472,1476,1480,1484,1488,1492,1496,1504,1508,1512,1516,1520,1524,1528,1532,1536,1540,1544,1548,1552,1556,1560,1564,1568,1572,1576,1580,1584,1588,1592,1596,1600,1604,1608,1612,1616,1620,1624,1628,1632,1636,1640,1644,1648,1652,1656,1660,1664,1668,1672,1676,1680,1684,1688,1692,1696,1704,1708,1712,1716,1720,1724,1728,1732,1736,1740,1744,1748,1752,1756,1760,1764,1768,1772,1776,1780,1784,1788,1792,1796,1804,1808,1812,1816,1820,1824,1828,1832,1836,1840,1844,1848,1852,1856,1860,1864,1868,1872,1876,1880,1884,1888,1892,1896,1904,1908,1912,1916,1920,1924,1928,1932,1936,1940,1944,1948,1952,1956,1960,1964,1968,1972,1976,1980,1984,1988,1992,1996,2000,2004,2008,2012,2016,"
          ],
          "name": "stdout"
        }
      ]
    },
    {
      "cell_type": "code",
      "metadata": {
        "id": "2Zg63LjgfUWn",
        "colab": {
          "base_uri": "https://localhost:8080/",
          "height": 55
        },
        "outputId": "e02af0cb-4ebe-4f1a-acb3-b7ff7ea6101a"
      },
      "source": [
        ""
      ],
      "execution_count": null,
      "outputs": [
        {
          "output_type": "stream",
          "text": [
            "100,102,104,106,108,110,112,114,116,118,120,122,124,126,128,130,132,134,136,138,140,142,144,146,148,150,152,154,156,158,160,162,164,166,168,170,172,174,176,178,180,182,184,186,188,190,192,194,196,198,200,"
          ],
          "name": "stdout"
        }
      ]
    },
    {
      "cell_type": "markdown",
      "metadata": {
        "id": "L1PeugiANfcD"
      },
      "source": [
        "**TRAVERSING A STRING USING WHILE LOOP**"
      ]
    },
    {
      "cell_type": "code",
      "metadata": {
        "id": "A71bGUInNZr8",
        "colab": {
          "base_uri": "https://localhost:8080/"
        },
        "outputId": "e51c7915-f55e-4e58-8592-c9035d6121cf"
      },
      "source": [
        "s = 'BHUBANESWAR'\n",
        "\n",
        "i = 0\n",
        "print(len(s))\n",
        "while i < len(s):\n",
        "  print(s[i], end = '')\n",
        "  i += 1"
      ],
      "execution_count": null,
      "outputs": [
        {
          "output_type": "stream",
          "name": "stdout",
          "text": [
            "11\n",
            "BHUBANESWAR"
          ]
        }
      ]
    },
    {
      "cell_type": "code",
      "metadata": {
        "id": "jJieLRf7TOYs",
        "colab": {
          "base_uri": "https://localhost:8080/",
          "height": 208
        },
        "outputId": "9c8c580c-b4d0-4c6f-e6ab-bb18126abfc7"
      },
      "source": [
        "s = 'BHUBANESWAR'\n",
        "#i = 0\n",
        "for i in range(len(s)):\n",
        "  print('i = ',i , s[i], end = '\\n')"
      ],
      "execution_count": null,
      "outputs": [
        {
          "output_type": "stream",
          "text": [
            "i =  0 B\n",
            "i =  1 H\n",
            "i =  2 U\n",
            "i =  3 B\n",
            "i =  4 A\n",
            "i =  5 N\n",
            "i =  6 E\n",
            "i =  7 S\n",
            "i =  8 W\n",
            "i =  9 A\n",
            "i =  10 R\n"
          ],
          "name": "stdout"
        }
      ]
    },
    {
      "cell_type": "code",
      "metadata": {
        "id": "fBr9AJYJXQfr",
        "colab": {
          "base_uri": "https://localhost:8080/",
          "height": 69
        },
        "outputId": "79f8f589-9224-462e-f5da-c377d158621d"
      },
      "source": [
        "a = int(input('Enter an integer'))\n",
        "b = int(input('Enter an integer'))\n",
        "\n",
        "r = range(a,b)\n",
        "for i in r:\n",
        "  if i % 2 == 1:\n",
        "    print(i, end = ',')"
      ],
      "execution_count": null,
      "outputs": [
        {
          "output_type": "stream",
          "text": [
            "Enter an integer10\n",
            "Enter an integer20\n",
            "11,13,15,17,19,"
          ],
          "name": "stdout"
        }
      ]
    },
    {
      "cell_type": "code",
      "metadata": {
        "id": "goOVHAD8Yd4v",
        "colab": {
          "base_uri": "https://localhost:8080/",
          "height": 35
        },
        "outputId": "9743fe24-ea7f-4520-e657-f2ce8e048fd8"
      },
      "source": [
        "print(r, '\\t', type(r))"
      ],
      "execution_count": null,
      "outputs": [
        {
          "output_type": "stream",
          "text": [
            "range(10, 20) \t <class 'range'>\n"
          ],
          "name": "stdout"
        }
      ]
    },
    {
      "cell_type": "markdown",
      "metadata": {
        "id": "0S4uqAVBfUWs"
      },
      "source": [
        "USING STRING"
      ]
    },
    {
      "cell_type": "code",
      "metadata": {
        "id": "VFJNTVwMfUWt",
        "outputId": "c482d30f-1735-45cd-ac62-ec03c62c84f0"
      },
      "source": [
        "x = 'ODISHA'\n",
        "for i in x:\n",
        "    print(i)"
      ],
      "execution_count": null,
      "outputs": [
        {
          "output_type": "stream",
          "text": [
            "O\n",
            "D\n",
            "I\n",
            "S\n",
            "H\n",
            "A\n"
          ],
          "name": "stdout"
        }
      ]
    },
    {
      "cell_type": "code",
      "metadata": {
        "id": "DrOrClI7fUWy"
      },
      "source": [
        ""
      ],
      "execution_count": null,
      "outputs": []
    },
    {
      "cell_type": "markdown",
      "metadata": {
        "id": "BPuHgsC6PURc"
      },
      "source": [
        ""
      ]
    },
    {
      "cell_type": "code",
      "metadata": {
        "id": "URvnTBp2PViO"
      },
      "source": [
        ""
      ],
      "execution_count": null,
      "outputs": []
    }
  ]
}
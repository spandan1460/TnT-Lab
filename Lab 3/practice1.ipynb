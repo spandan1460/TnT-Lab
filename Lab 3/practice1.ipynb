{
 "cells": [
  {
   "cell_type": "markdown",
   "metadata": {},
   "source": [
    "### **Q1.** Write a program to find distance between two points having A and B has two coordinates each. "
   ]
  },
  {
   "cell_type": "code",
   "execution_count": null,
   "metadata": {},
   "outputs": [],
   "source": [
    "# distance between two coordinates\n",
    "\n",
    "def distance(x1, y1, x2, y2):\n",
    "    return ((x2 - x1) ** 2 + (y2 - y1) ** 2) ** 0.5\n",
    "\n",
    "input_x1 = int(input(\"Enter x1: \"))\n",
    "input_y1 = int(input(\"Enter y1: \"))\n",
    "input_x2 = int(input(\"Enter x2: \"))\n",
    "input_y2 = int(input(\"Enter y2: \"))\n",
    "print(distance(input_x1, input_y1, input_x2, input_y2))"
   ]
  },
  {
   "cell_type": "markdown",
   "metadata": {},
   "source": [
    "### **Q2.** Find the area of the rectangle having points at <0,0>, <0,6>, <8.0>, <8,6>. by finding the distance between the points."
   ]
  },
  {
   "cell_type": "code",
   "execution_count": null,
   "metadata": {},
   "outputs": [],
   "source": [
    "area = distance(0, 0, 0, 6) * distance(0, 6, 8, 6)\n",
    "print(area)"
   ]
  },
  {
   "cell_type": "markdown",
   "metadata": {},
   "source": [
    "### **Q3.** Suppose an amount of 15 lakhs has been taken as a loan for House Building purpose. Find the Monthly installment if the loan has to be repaid in 120 months if the rate of interest is 5.6% which is compounded annually."
   ]
  },
  {
   "cell_type": "code",
   "execution_count": null,
   "metadata": {},
   "outputs": [],
   "source": [
    "def monthly_installment(loan, rate, months):\n",
    "    return loan * (rate / (1 - (1 + rate) ** -months))\n",
    "\n",
    "loan_amount=1500000\n",
    "Rate_of_interest=0.056\n",
    "time=120\n",
    "print(monthly_installment(loan_amount, Rate_of_interest, time))"
   ]
  },
  {
   "cell_type": "markdown",
   "metadata": {},
   "source": [
    "### **Q4.** Find the length of the square with maximum are that can be inscribed with a circle of radius 23 cm,"
   ]
  },
  {
   "cell_type": "code",
   "execution_count": null,
   "metadata": {},
   "outputs": [],
   "source": [
    "def circle_square(radius):\n",
    "    return 2 * radius ** 2 * 3.14\n",
    "\n",
    "rad = float(input(\"Enter the radius: \"))\n",
    "print(circle_square(rad))"
   ]
  }
 ],
 "metadata": {
  "language_info": {
   "name": "python"
  },
  "orig_nbformat": 4
 },
 "nbformat": 4,
 "nbformat_minor": 2
}

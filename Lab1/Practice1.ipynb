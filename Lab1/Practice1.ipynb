{
 "cells": [
  {
   "cell_type": "markdown",
   "metadata": {},
   "source": [
    "# Practice Questions"
   ]
  },
  {
   "cell_type": "markdown",
   "metadata": {},
   "source": [
    "### **Q1.** Take user input and perform the following operations:-\n",
    "\n",
    " 1. Addition\n",
    " 2. multiplication\n",
    " 3. Subtraction\n",
    " 4. Floor Division\n",
    " 5. Division\n",
    " 6. Exponential Operation\n",
    "\n",
    " (The output format must be\n",
    "The addition of ____\\ and ___\\ is ___\\\n",
    "\n",
    "for all operations)\n"
   ]
  },
  {
   "cell_type": "code",
   "execution_count": 1,
   "metadata": {},
   "outputs": [
    {
     "name": "stdout",
     "output_type": "stream",
     "text": [
      "enter two numbers\n",
      "The Result of  5 + 2 is 7\n",
      "The Result of  5 * 2 is 10\n",
      "The Result of  5 - 2 is 3\n",
      "The Result of  5 // 2 is 2\n",
      "The result of  5 / 2 is 2.5\n",
      "The Result of  5 ^ 2 is 25\n"
     ]
    }
   ],
   "source": [
    "print(\"enter two numbers\")\n",
    "a=int(input(\"Enter the first number\"))\n",
    "b=int(input(\"Enter the Second number\"))\n",
    "sum=int(a)+int(b)\n",
    "multiply=int(a)*int(b)\n",
    "subtract=int(a)-int(b)\n",
    "floordivision=int(a)//int(b)\n",
    "division = int(a)/int(b)\n",
    "exponentiation=int(a)**int(b)\n",
    "print(\"The Result of \" , a,\"+\",b,\"is\",sum)\n",
    "print(\"The Result of \" , a,\"*\",b,\"is\",multiply)\n",
    "print(\"The Result of \" , a,\"-\",b,\"is\",subtract)\n",
    "print(\"The Result of \" , a,\"//\",b,\"is\",floordivision)\n",
    "print(\"The result of \", a,\"/\",b,\"is\",division)\n",
    "print(\"The Result of \" , a,\"^\",b,\"is\",exponentiation)"
   ]
  },
  {
   "cell_type": "markdown",
   "metadata": {},
   "source": [
    "### **Q2.** By using sep and end attribute as print the following pattern"
   ]
  },
  {
   "cell_type": "code",
   "execution_count": 2,
   "metadata": {},
   "outputs": [
    {
     "name": "stdout",
     "output_type": "stream",
     "text": [
      "xxxxxx\n",
      " xxxxx\n",
      "xxxxxx\n",
      "  xxxxx\n",
      "******\n",
      "  ****\n"
     ]
    }
   ],
   "source": [
    "## Using Sep and end attribute\n",
    "print(\"xxxxxx\",\"xxxxx\",sep='\\n ',end=\"\\n\")\n",
    "print(\"xxxxxx\",\"xxxxx\",sep='\\n  ',end=\"\\n\")\n",
    "print(\"******\",\"****\",sep='\\n  ',end=\"\\n\")"
   ]
  },
  {
   "cell_type": "markdown",
   "metadata": {},
   "source": [
    "### **Q3.** Print your Biodata by taking user input **(Print atleast 10 features)**\n",
    "\n",
    " - Name:-  \n",
    " - DOB:- \n",
    " - Place of Birth:- \n",
    " - Languages Known:-\n",
    " - Roll Number:-"
   ]
  },
  {
   "cell_type": "code",
   "execution_count": 3,
   "metadata": {},
   "outputs": [
    {
     "name": "stdout",
     "output_type": "stream",
     "text": [
      "Name:-  Spandan Chakravarty\n",
      "Date of Birth:-  14 March 2001\n",
      "Place of Birth:-  Bengali, Odia, Hindi, English\n",
      "Languages Known:-  Software Engineer\n",
      "Roll Number Preffered:-  B.Tech\n",
      "Education Qualification:-  0 years\n",
      "Experience:-  0 years\n",
      "Skills known:-  Web Development, Android Development, Video Editing\n",
      "Hobbies:-  Swimming, Riding Bikes, Cycling,Travelling\n",
      "Adderss:-  C/30, Sector-3, Rourkela\n",
      "Contact Number:-  9348169319\n"
     ]
    }
   ],
   "source": [
    "## Print your Biodata using python\n",
    "name=input(\"enter your name\")\n",
    "dob=input(\"enter your DOB\")\n",
    "pob=input(\"enter your place of birth\")\n",
    "language=input(\"enter your Language\")\n",
    "rollpreff=input(\"enter your Role preferred\")\n",
    "qualification=input(\"enter your Qualification\")\n",
    "experience=input(\"enter your Experience\")\n",
    "skills=input(\"enter your Skills\")\n",
    "hobbies=input(\"enter your Hobbies\")\n",
    "address=input(\"enter your Address\")\n",
    "contact=input(\"enter your Contact\")\n",
    "print(\"Name:- \", name)\n",
    "print(\"Date of Birth:- \",dob)\n",
    "print(\"Place of Birth:- \",pob)\n",
    "print(\"Languages Known:- \", language)\n",
    "print(\"Roll Number Preffered:- \", rollpreff)\n",
    "print(\"Education Qualification:- \", qualification)\n",
    "print(\"Experience:- \",experience)\n",
    "print(\"Skills known:- \", skills)\n",
    "print(\"Hobbies:- \", hobbies)\n",
    "print(\"Adderss:- \", address)\n",
    "print(\"Contact Number:- \", contact)"
   ]
  }
 ],
 "metadata": {
  "interpreter": {
   "hash": "666cf59790f39c31264caa250d5e8538bf985743bfd0df47138a7f21f255443d"
  },
  "kernelspec": {
   "display_name": "Python 3.8.5 64-bit ('base': conda)",
   "language": "python",
   "name": "python3"
  },
  "language_info": {
   "codemirror_mode": {
    "name": "ipython",
    "version": 3
   },
   "file_extension": ".py",
   "mimetype": "text/x-python",
   "name": "python",
   "nbconvert_exporter": "python",
   "pygments_lexer": "ipython3",
   "version": "3.8.5"
  },
  "orig_nbformat": 4
 },
 "nbformat": 4,
 "nbformat_minor": 2
}

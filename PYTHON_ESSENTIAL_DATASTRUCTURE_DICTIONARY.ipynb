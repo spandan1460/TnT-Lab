{
  "nbformat": 4,
  "nbformat_minor": 0,
  "metadata": {
    "colab": {
      "name": "PYTHON_ESSENTIAL_DATASTRUCTURE_DICTIONARY.ipynb",
      "provenance": []
    },
    "language_info": {
      "codemirror_mode": {
        "name": "ipython",
        "version": 3
      },
      "file_extension": ".py",
      "mimetype": "text/x-python",
      "name": "python",
      "nbconvert_exporter": "python",
      "pygments_lexer": "ipython3",
      "version": "3.7.0"
    },
    "kernelspec": {
      "display_name": "Python 3",
      "language": "python",
      "name": "python3"
    }
  },
  "cells": [
    {
      "cell_type": "markdown",
      "metadata": {
        "id": "eeYlrrfyGVeY"
      },
      "source": [
        "# THE PURPOSE OF DICTIONARY"
      ]
    },
    {
      "cell_type": "markdown",
      "metadata": {
        "id": "QJOUOBI5GVef"
      },
      "source": [
        "Dictionary is an key based iterable python object that used to store relational or tabular data in python memory "
      ]
    },
    {
      "cell_type": "code",
      "metadata": {
        "id": "kWQGWCc3GVek",
        "outputId": "6dc43806-8a9d-442e-ae7e-b6819c23c763",
        "colab": {
          "base_uri": "https://localhost:8080/",
          "height": 35
        }
      },
      "source": [
        "D = {} # Empty Dictionary\n",
        "print(type(D))"
      ],
      "execution_count": null,
      "outputs": [
        {
          "output_type": "stream",
          "text": [
            "<class 'dict'>\n"
          ],
          "name": "stdout"
        }
      ]
    },
    {
      "cell_type": "markdown",
      "metadata": {
        "id": "EhBdPH3pGVfC"
      },
      "source": [
        "Creating a Deictionary"
      ]
    },
    {
      "cell_type": "code",
      "metadata": {
        "id": "4Gt8vQtjGVfH",
        "outputId": "fa100bca-6154-43ce-e59a-bea5bfea139c",
        "colab": {
          "base_uri": "https://localhost:8080/",
          "height": 69
        }
      },
      "source": [
        "#Dict = {'Name': 'Chandra', 'Id': 201, 'Salary': 9555.80} {'Name': 'XYZ', 'Id': 203, 'Salary': 95234.80}\n",
        "Dict = {'Name': 'Chandra', 'Id': 201, 'Salary': 9555.80}\n",
        "print(Dict)\n",
        "#print(Dict[1])\n",
        "print('The name of the Employee', Dict['Name'])\n",
        "print('The id of the Employee', Dict['Id'])\n",
        "print('The Salary of the Employee', Dict['Salary'])"
      ],
      "execution_count": null,
      "outputs": [
        {
          "output_type": "stream",
          "text": [
            "The name of the Employee Chandra\n",
            "The id of the Employee 201\n",
            "The Salary of the Employee 9555.8\n"
          ],
          "name": "stdout"
        }
      ]
    },
    {
      "cell_type": "markdown",
      "metadata": {
        "id": "_ADfXdAaGVff"
      },
      "source": [
        "Simulating a Tabular Data\n",
        "\n",
        "          Name          Id        Salary\n",
        "          -------------------------------\n",
        "        0 X             1            10\n",
        "        1 Y             2            20\n",
        "        2 Z             3            30"
      ]
    },
    {
      "cell_type": "code",
      "metadata": {
        "id": "M5E80Iz-GVfj",
        "outputId": "f53135c4-bde3-40c6-d43a-69409371ab92",
        "colab": {
          "base_uri": "https://localhost:8080/",
          "height": 55
        }
      },
      "source": [
        "Employee_Data = {'0':{'Name': 'X', 'Id': 1, 'Salary': 10},'1':{'Name': 'Y', 'Id': 2, 'Salary': 20},'2':{'Name': 'Y', 'Id': 2, 'Salary': 20}}\n",
        "print(Employee_Data)"
      ],
      "execution_count": null,
      "outputs": [
        {
          "output_type": "stream",
          "text": [
            "{'0': {'Name': 'X', 'Id': 1, 'Salary': 10}, '1': {'Name': 'Y', 'Id': 2, 'Salary': 20}, '2': {'Name': 'Y', 'Id': 2, 'Salary': 20}}\n"
          ],
          "name": "stdout"
        }
      ]
    },
    {
      "cell_type": "code",
      "metadata": {
        "id": "IIg-Ib7PGVf2",
        "outputId": "d618a180-cce8-4d3f-ee00-8568aa4cd4ff",
        "colab": {
          "base_uri": "https://localhost:8080/",
          "height": 107
        }
      },
      "source": [
        "Name = ['X', 'Y', 'Z']\n",
        "Id = [1,2,3]\n",
        "Salary = [10, 20, 30]\n",
        "\n",
        "Employee_Data = {'Name': Name, 'Id': Id, 'Salary': Salary}\n",
        "print(Employee_Data['Name'],Employee_Data['Id'], Employee_Data['Salary'], sep = '\\n')\n",
        "\n",
        "Name.append('A')\n",
        "Id.append(4)\n",
        "Salary.append(40)\n",
        "Employee_Data['Name'][0] = 'Ram'\n",
        "print(Employee_Data)"
      ],
      "execution_count": null,
      "outputs": [
        {
          "output_type": "stream",
          "text": [
            "['X', 'Y', 'Z']\n",
            "[1, 2, 3]\n",
            "[10, 20, 30]\n",
            "{'Name': ['Ram', 'Y', 'Z', 'A'], 'Id': [1, 2, 3, 4], 'Salary': [10, 20, 30, 40]}\n"
          ],
          "name": "stdout"
        }
      ]
    },
    {
      "cell_type": "code",
      "metadata": {
        "id": "7K9kXnUFo10H",
        "outputId": "6c003e58-126a-49dc-bb1c-78bf596ac18a",
        "colab": {
          "base_uri": "https://localhost:8080/",
          "height": 51
        }
      },
      "source": [
        "# Accessing Through Dictionary\n",
        "\n",
        "print(Employee_Data['Name'][1])\n",
        "Employee_Data['Name'].append('B')\n",
        "print(Employee_Data['Name'])"
      ],
      "execution_count": null,
      "outputs": [
        {
          "output_type": "stream",
          "text": [
            "Y\n",
            "['X', 'Y', 'Z', 'A', 'B']\n"
          ],
          "name": "stdout"
        }
      ]
    },
    {
      "cell_type": "code",
      "metadata": {
        "id": "zY6xV8--s6ek",
        "outputId": "07ef41ea-3049-403a-97a6-ac643ed0431c",
        "colab": {
          "base_uri": "https://localhost:8080/",
          "height": 69
        }
      },
      "source": [
        "print(type(Employee_Data['Name']))\n",
        "i = Employee_Data['Name'].index('Y')\n",
        "print(i)\n",
        "print(Employee_Data['Salary'][i])"
      ],
      "execution_count": null,
      "outputs": [
        {
          "output_type": "stream",
          "text": [
            "<class 'list'>\n",
            "1\n",
            "20\n"
          ],
          "name": "stdout"
        }
      ]
    },
    {
      "cell_type": "markdown",
      "metadata": {
        "id": "57c0b8fUGVgD"
      },
      "source": [
        "# DICTIONARY METHODS"
      ]
    },
    {
      "cell_type": "code",
      "metadata": {
        "id": "VriMmrddGVgH",
        "outputId": "a5f6c38d-9b5d-4f58-b1f7-40664b2b861e",
        "colab": {
          "base_uri": "https://localhost:8080/",
          "height": 55
        }
      },
      "source": [
        "Copy_Data = Employee_Data.copy()\n",
        "print(Copy_Data)"
      ],
      "execution_count": null,
      "outputs": [
        {
          "output_type": "stream",
          "text": [
            "{'Name': ['Ram', 'Y', 'Z', 'A'], 'Id': [1, 2, 3, 4], 'Salary': [10, 20, 30, 40]}\n"
          ],
          "name": "stdout"
        }
      ]
    },
    {
      "cell_type": "raw",
      "metadata": {
        "id": "eK0A_Xx2GVgb"
      },
      "source": [
        "Dictionary.fromkeys(sequence,[default_values])\n",
        "----------------------------------------------\n",
        "A new dictionary for to be created from a sequence as its keys. Default values for the "
      ]
    },
    {
      "cell_type": "code",
      "metadata": {
        "id": "9MaHwSQXGVge",
        "outputId": "ff5f7350-55f4-46ed-e3ab-a9b30d4263e7",
        "colab": {
          "base_uri": "https://localhost:8080/",
          "height": 35
        }
      },
      "source": [
        "seq = ('Name', 'Sex', 'Age')\n",
        "dict = dict.fromkeys(seq, [])\n",
        "print(dict)"
      ],
      "execution_count": null,
      "outputs": [
        {
          "output_type": "stream",
          "text": [
            "{'Name': [], 'Sex': [], 'Age': []}\n"
          ],
          "name": "stdout"
        }
      ]
    },
    {
      "cell_type": "raw",
      "metadata": {
        "id": "KP7HnfXDGVgr"
      },
      "source": [
        "dict.get(key, default=None)\n",
        "---------------------------------------\n",
        "key − This is the Key to be searched in the dictionary.\n",
        "\n",
        "default − This is the Value to be returned in case key does not exist.\n",
        "\n",
        "Return Value\n",
        "-----------------\n",
        "This method return a value for the given key. If key is not available, then returns default value None."
      ]
    },
    {
      "cell_type": "code",
      "metadata": {
        "id": "h8MadfDkGVgz",
        "outputId": "71f13af0-e05e-4ba6-9d8a-0bedd1cab437",
        "colab": {
          "base_uri": "https://localhost:8080/",
          "height": 69
        }
      },
      "source": [
        "dict = {'Name': 'Zara', 'Age': 27}\n",
        "\n",
        "print (\"Value of Age : \" ,dict.get('Age',  \"No data present\"))\n",
        "print (\"Value of Sex: \" ,dict.get('Sex', \"No data present\"))\n",
        "print(dict)"
      ],
      "execution_count": null,
      "outputs": [
        {
          "output_type": "stream",
          "text": [
            "Value of Age :  27\n",
            "Value of Sex:  No data present\n",
            "{'Name': 'Zara', 'Age': 27}\n"
          ],
          "name": "stdout"
        }
      ]
    },
    {
      "cell_type": "raw",
      "metadata": {
        "id": "OB3wwelcGVhC"
      },
      "source": [
        "dict.items()\n",
        "---------------\n",
        "The method items() returns a list of dict's (key, value) tuple pairs.\n"
      ]
    },
    {
      "cell_type": "code",
      "metadata": {
        "id": "GLskawT7GVhF",
        "outputId": "4c6dde84-752c-4bda-c3f8-920257713d53",
        "colab": {
          "base_uri": "https://localhost:8080/",
          "height": 69
        }
      },
      "source": [
        "dict = {'Name': 'Zara', 'Age': 7}\n",
        "print (\"Value : \",dict.items())\n",
        "print(type(dict.items()))\n",
        "print(list(dict.items())[0][1])"
      ],
      "execution_count": null,
      "outputs": [
        {
          "output_type": "stream",
          "text": [
            "Value :  dict_items([('Name', 'Zara'), ('Age', 7)])\n",
            "<class 'dict_items'>\n",
            "Zara\n"
          ],
          "name": "stdout"
        }
      ]
    },
    {
      "cell_type": "raw",
      "metadata": {
        "id": "61KE9oIsGVhS"
      },
      "source": [
        "Description\n",
        "The method keys() returns a list of all the available keys in the dictionary.\n",
        "\n",
        "Syntax\n",
        "Following is the syntax for keys() method −\n",
        "\n",
        "dict.keys()\n",
        "---------------\n",
        "Return Value\n",
        "This method returns a list of all the available keys in the dictionary."
      ]
    },
    {
      "cell_type": "code",
      "metadata": {
        "id": "kZ9KUr6wGVhW",
        "outputId": "4faa4d1b-e682-4d8f-e2a1-d1644aad0ecf",
        "colab": {
          "base_uri": "https://localhost:8080/",
          "height": 104
        }
      },
      "source": [
        "dict = {'Name': 'Zara', 'Age': 7}\n",
        "print (\"Value : \" ,  dict.keys())\n",
        "print (\"Value : \" ,  dict.values())\n",
        "print(type(dict.keys()))\n",
        "Key_List = list(dict.keys())\n",
        "print(Key_List)\n",
        "print(dict)"
      ],
      "execution_count": null,
      "outputs": [
        {
          "output_type": "stream",
          "text": [
            "Value :  dict_keys(['Name', 'Age'])\n",
            "Value :  dict_values(['Zara', 7])\n",
            "<class 'dict_keys'>\n",
            "['Name', 'Age']\n",
            "{'Name': 'Zara', 'Age': 7}\n"
          ],
          "name": "stdout"
        }
      ]
    },
    {
      "cell_type": "markdown",
      "metadata": {
        "id": "HahuDPNOzKAy"
      },
      "source": [
        "# Loopin in Dictionary"
      ]
    },
    {
      "cell_type": "code",
      "metadata": {
        "id": "gr-2Mv1XzVel",
        "outputId": "0f8d0a31-66ed-443a-fcac-7a5e5233ce8d",
        "colab": {
          "base_uri": "https://localhost:8080/",
          "height": 88
        }
      },
      "source": [
        "Name = ['Bumra', 'Bhuvi', 'Kohli']\n",
        "Role = ['Bowler', 'Bowler', 'Batsman']\n",
        "cricketer = {'Name': Name, 'Role': Role}\n",
        "print(cricketer.items())\n",
        "\n",
        "\n",
        "for k, v in cricketer.items():\n",
        "  print('The name of the players are ', k, 'and they are ', v, ' respectvelly')"
      ],
      "execution_count": null,
      "outputs": [
        {
          "output_type": "stream",
          "text": [
            "dict_items([('Name', ['Bumra', 'Bhuvi', 'Kohli']), ('Role', ['Bowler', 'Bowler', 'Batsman'])])\n",
            "The name of the players are  Name and they are  ['Bumra', 'Bhuvi', 'Kohli']  respectvelly\n",
            "The name of the players are  Role and they are  ['Bowler', 'Bowler', 'Batsman']  respectvelly\n"
          ],
          "name": "stdout"
        }
      ]
    },
    {
      "cell_type": "code",
      "metadata": {
        "id": "VJ1zj8gH88Wf",
        "outputId": "5d05d6ad-83cd-412e-e270-7225265e1567",
        "colab": {
          "base_uri": "https://localhost:8080/",
          "height": 104
        }
      },
      "source": [
        "print(cricketer.items())\n",
        "print(type(cricketer.items()))\n",
        "crickinfo = list(cricketer.items())\n",
        "print(crickinfo[0])\n",
        "print(crickinfo[0][1])\n",
        "print(crickinfo[0][1][0])"
      ],
      "execution_count": null,
      "outputs": [
        {
          "output_type": "stream",
          "text": [
            "dict_items([('Name', ['Bumra', 'Bhuvi', 'Kohli']), ('Role', ['Bowler', 'Bowler', 'Batsman'])])\n",
            "<class 'dict_items'>\n",
            "('Name', ['Bumra', 'Bhuvi', 'Kohli'])\n",
            "['Bumra', 'Bhuvi', 'Kohli']\n",
            "Bumra\n"
          ],
          "name": "stdout"
        }
      ]
    },
    {
      "cell_type": "code",
      "source": [
        "# Basic Function Definition\n",
        "def add(a, b):\n",
        "  c = a + b\n",
        "  return(c)\n",
        "\n",
        "m = add(3, 5)\n",
        "print(m)"
      ],
      "metadata": {
        "colab": {
          "base_uri": "https://localhost:8080/"
        },
        "id": "2f7JyUk5_uqu",
        "outputId": "04f448a0-3122-4716-99a2-3c13c3ef98c0"
      },
      "execution_count": null,
      "outputs": [
        {
          "output_type": "stream",
          "name": "stdout",
          "text": [
            "8\n"
          ]
        }
      ]
    },
    {
      "cell_type": "code",
      "source": [
        "def devide(a, b):\n",
        "  Q = a // b\n",
        "  R = a % b\n",
        "  return Q, R\n",
        "\n",
        "m, n = devide(10,3)\n",
        "print('m = ', m, 'n  = ', n)"
      ],
      "metadata": {
        "colab": {
          "base_uri": "https://localhost:8080/"
        },
        "id": "NYAAUSmIAXVD",
        "outputId": "a1566505-519b-4816-9acc-659fc2011898"
      },
      "execution_count": null,
      "outputs": [
        {
          "output_type": "stream",
          "name": "stdout",
          "text": [
            "m =  3 n  =  1\n"
          ]
        }
      ]
    }
  ]
}
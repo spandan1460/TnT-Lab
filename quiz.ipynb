{
 "cells": [
  {
   "cell_type": "code",
   "execution_count": 1,
   "metadata": {},
   "outputs": [
    {
     "name": "stdout",
     "output_type": "stream",
     "text": [
      "50 50 50 50\n",
      "53\n"
     ]
    }
   ],
   "source": [
    "k = 'K'\n",
    "i = 'I'\n",
    "I = 'i'\n",
    "t = 'T'\n",
    "\n",
    "\n",
    "print(sys.getsizeof(k), sys.getsizeof(i), sys.getsizeof(I), sys.getsizeof(t))\n",
    "print(sys.getsizeof('kiIt'))"
   ]
  }
 ],
 "metadata": {
  "interpreter": {
   "hash": "53b144c10255056ba138318079d6915f61635f604f049884bb1cb292c1bb44d7"
  },
  "kernelspec": {
   "display_name": "Python 3.9.7 ('base')",
   "language": "python",
   "name": "python3"
  },
  "language_info": {
   "codemirror_mode": {
    "name": "ipython",
    "version": 3
   },
   "file_extension": ".py",
   "mimetype": "text/x-python",
   "name": "python",
   "nbconvert_exporter": "python",
   "pygments_lexer": "ipython3",
   "version": "3.9.7"
  },
  "orig_nbformat": 4
 },
 "nbformat": 4,
 "nbformat_minor": 2
}

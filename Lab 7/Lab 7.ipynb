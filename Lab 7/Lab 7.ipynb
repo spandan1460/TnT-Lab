{
 "cells": [
  {
   "cell_type": "markdown",
   "metadata": {},
   "source": [
    "### **Q1.** Define a class Complex with the following field:\n",
    "   - Real & \n",
    "   - Imaginary \n",
    " \n",
    "      1. Overload the \\_\\_str\\_\\_ function in such a way that, the output  3 + 4i\n",
    "      2. Overload the constructor that it takes input from user for real and imaginary part\n",
    "      3. Write add, sub, mul function for class complex."
   ]
  },
  {
   "cell_type": "code",
   "execution_count": 9,
   "metadata": {},
   "outputs": [
    {
     "name": "stdout",
     "output_type": "stream",
     "text": [
      "Enter the first complex number:\n",
      "Enter the second complex number:\n",
      "3.0+4.0i\n"
     ]
    }
   ],
   "source": [
    "class Complex:\n",
    "    def __init__(self, realpart, imagpart):\n",
    "        self.r = realpart\n",
    "        self.i = imagpart\n",
    "    def add(self, other):\n",
    "        r = self.r + other.r\n",
    "        i = self.i + other.i\n",
    "        return Complex(r, i)\n",
    "    def sub(self, other):\n",
    "        r = self.r - other.r\n",
    "        i = self.i - other.i\n",
    "        return Complex(r, i)\n",
    "    def mul(self, other):\n",
    "        r = self.r * other.r - self.i * other.i\n",
    "        i = self.r * other.i + self.i * other.r\n",
    "        return Complex(r, i)\n",
    "    def __str__(self):\n",
    "        return str(self.r) + \"+\" + str(self.i) + \"i\"\n",
    "\n",
    "print(\"Enter the first complex number:\")\n",
    "real1 = float(input(\"Enter the real part: \"))\n",
    "imag1 = float(input(\"Enter the imaginary part: \"))\n",
    "x= Complex(real1,imag1)\n",
    "print(\"Enter the second complex number:\")\n",
    "real2 = float(input(\"Enter the real part: \"))\n",
    "imag2 = float(input(\"Enter the imaginary part: \"))\n",
    "y= Complex(real2,imag2)\n",
    "\n",
    "print(\"Now enter the operation you want to perform:\")\n",
    "print(\"1. Addition\")\n",
    "print(\"2. Subtraction\")\n",
    "print(\"3. Multiplication\")\n",
    "choice = int(input(\"Enter your choice: \"))\n",
    "if choice == 1:\n",
    "    print(\"The sum of the two complex numbers is:\")\n",
    "    print(x.add(y))\n",
    "elif choice == 2:\n",
    "    print(\"The difference of the two complex numbers is:\")\n",
    "    print(x.sub(y))\n",
    "elif choice == 3:\n",
    "    print(\"The product of the two complex numbers is:\")\n",
    "    print(x.mul(y))"
   ]
  },
  {
   "cell_type": "markdown",
   "metadata": {},
   "source": [
    "### **Q2.** Define a class Point having fields x and y coordinates. \n",
    "- Overload the constructor such that you can create a point by writing p1 = Point(3,5).\n",
    "- Write down a default constructor, such that if no parameters are passed a point will be created at <0, 0>\n",
    "- Overload the \\_\\_str\\_\\_ function such that the output will be in the form <2, 3>\n",
    "- Add  a function euclidean to the such that calculate euclidean distance between two point\n",
    "- Add a function manhattan such that it calculates the manhattan distance between two points.\n",
    "- Add a function Slope that returns the slope of the vectors connecting orgin points with the point.\n",
    "- Find the similarity between the two points by finding the angel between two points.\n"
   ]
  },
  {
   "cell_type": "code",
   "execution_count": 6,
   "metadata": {},
   "outputs": [
    {
     "name": "stdout",
     "output_type": "stream",
     "text": [
      "The two points are:\n",
      "<0,0>and<2,3>\n",
      "euclidean distance: 3.605551275463989\n",
      "manhattan distance: 5\n",
      "slope distance: 1.5\n",
      "angle between <0,0> and <2,3> is: -2.158798930342464\n"
     ]
    }
   ],
   "source": [
    "import math\n",
    "class Point:\n",
    "    \n",
    "    def __init__(self, x=0, y=0):\n",
    "        self.x = x\n",
    "        self.y = y\n",
    "\n",
    "    def __str__(self):\n",
    "        return \"<\" + str(self.x) + \",\" + str(self.y) + \">\"\n",
    "\n",
    "    def euclideanDistance(self, other):\n",
    "        return math.sqrt((self.x - other.x)**2 + (self.y - other.y)**2)\n",
    "\n",
    "    def manhattanDistance(self, other):\n",
    "        return abs(self.x - other.x) + abs(self.y - other.y)\n",
    "\n",
    "    def slopeDistance(self, other):\n",
    "        return abs(self.y - other.y) / abs(self.x - other.x)\n",
    "\n",
    "    def angleBetween(self, other):\n",
    "        return math.atan2(self.y - other.y, self.x - other.x)\n",
    "\n",
    "x1 = int(input(\"Enter the x coordinate of the first point: \"))\n",
    "y1 = int(input(\"Enter the y coordinate of the first point: \"))\n",
    "x2 = int(input(\"Enter the x coordinate of the second point: \"))\n",
    "y2 = int(input(\"Enter the y coordinate of the second point: \"))\n",
    "a=Point(x1,y1)\n",
    "b=Point(x2,y2)\n",
    "print(\"The two points are:\")\n",
    "print(a, end=\" and \")\n",
    "print(b)\n",
    "print(f'euclidean distance: {a.euclideanDistance(b)}')\n",
    "print(f'manhattan distance: {a.manhattanDistance(b)}')\n",
    "print(f'slope distance: {a.slopeDistance(b)}')\n",
    "print(f'angle between {a} and {b} is: {a.angleBetween(b)}')"
   ]
  }
 ],
 "metadata": {
  "interpreter": {
   "hash": "b3ba2566441a7c06988d0923437866b63cedc61552a5af99d1f4fb67d367b25f"
  },
  "kernelspec": {
   "display_name": "Python 3.9.7 ('base')",
   "language": "python",
   "name": "python3"
  },
  "language_info": {
   "codemirror_mode": {
    "name": "ipython",
    "version": 3
   },
   "file_extension": ".py",
   "mimetype": "text/x-python",
   "name": "python",
   "nbconvert_exporter": "python",
   "pygments_lexer": "ipython3",
   "version": "3.9.7"
  },
  "orig_nbformat": 4
 },
 "nbformat": 4,
 "nbformat_minor": 2
}

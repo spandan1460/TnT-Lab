{
  "nbformat": 4,
  "nbformat_minor": 0,
  "metadata": {
    "colab": {
      "name": "PYTHON_ESSENTIAL_PYTHON_DATASTRUCTURE_TUPLE_LIST_DICTIONARY_SET_STRING_0.ipynb",
      "provenance": []
    },
    "language_info": {
      "codemirror_mode": {
        "name": "ipython",
        "version": 3
      },
      "file_extension": ".py",
      "mimetype": "text/x-python",
      "name": "python",
      "nbconvert_exporter": "python",
      "pygments_lexer": "ipython3",
      "version": "3.6.1"
    },
    "kernelspec": {
      "display_name": "Python 3",
      "language": "python",
      "name": "python3"
    }
  },
  "cells": [
    {
      "cell_type": "markdown",
      "metadata": {
        "id": "oiSCCKD6FtJ4"
      },
      "source": [
        "# STRINGs IN PYTHON"
      ]
    },
    {
      "cell_type": "code",
      "metadata": {
        "id": "wJhNwpFHkQtM",
        "colab": {
          "base_uri": "https://localhost:8080/",
          "height": 220
        },
        "outputId": "0d90fd76-c4bc-45b5-cb9f-52c5eceb833c"
      },
      "source": [
        "x = 3\n",
        "import sys\n",
        "print(sys.getsizeof(x))\n",
        "print(x[0]) # Why this statemet fails???"
      ],
      "execution_count": null,
      "outputs": [
        {
          "output_type": "stream",
          "text": [
            "28\n"
          ],
          "name": "stdout"
        },
        {
          "output_type": "error",
          "ename": "TypeError",
          "evalue": "ignored",
          "traceback": [
            "\u001b[0;31m---------------------------------------------------------------------------\u001b[0m",
            "\u001b[0;31mTypeError\u001b[0m                                 Traceback (most recent call last)",
            "\u001b[0;32m<ipython-input-1-f0c980ea2414>\u001b[0m in \u001b[0;36m<module>\u001b[0;34m()\u001b[0m\n\u001b[1;32m      2\u001b[0m \u001b[0;32mimport\u001b[0m \u001b[0msys\u001b[0m\u001b[0;34m\u001b[0m\u001b[0;34m\u001b[0m\u001b[0m\n\u001b[1;32m      3\u001b[0m \u001b[0mprint\u001b[0m\u001b[0;34m(\u001b[0m\u001b[0msys\u001b[0m\u001b[0;34m.\u001b[0m\u001b[0mgetsizeof\u001b[0m\u001b[0;34m(\u001b[0m\u001b[0mx\u001b[0m\u001b[0;34m)\u001b[0m\u001b[0;34m)\u001b[0m\u001b[0;34m\u001b[0m\u001b[0;34m\u001b[0m\u001b[0m\n\u001b[0;32m----> 4\u001b[0;31m \u001b[0mprint\u001b[0m\u001b[0;34m(\u001b[0m\u001b[0mx\u001b[0m\u001b[0;34m[\u001b[0m\u001b[0;36m0\u001b[0m\u001b[0;34m]\u001b[0m\u001b[0;34m)\u001b[0m \u001b[0;31m# Why this statemet fails???\u001b[0m\u001b[0;34m\u001b[0m\u001b[0;34m\u001b[0m\u001b[0m\n\u001b[0m",
            "\u001b[0;31mTypeError\u001b[0m: 'int' object is not subscriptable"
          ]
        }
      ]
    },
    {
      "cell_type": "code",
      "metadata": {
        "colab": {
          "base_uri": "https://localhost:8080/",
          "height": 167
        },
        "id": "ouJEsqy9545N",
        "outputId": "bdff3b1a-4746-47e5-e86f-c522074d4ebb"
      },
      "source": [
        "iter(x)"
      ],
      "execution_count": null,
      "outputs": [
        {
          "output_type": "error",
          "ename": "TypeError",
          "evalue": "ignored",
          "traceback": [
            "\u001b[0;31m---------------------------------------------------------------------------\u001b[0m",
            "\u001b[0;31mTypeError\u001b[0m                                 Traceback (most recent call last)",
            "\u001b[0;32m<ipython-input-2-fc8878cfdbdd>\u001b[0m in \u001b[0;36m<module>\u001b[0;34m()\u001b[0m\n\u001b[0;32m----> 1\u001b[0;31m \u001b[0miter\u001b[0m\u001b[0;34m(\u001b[0m\u001b[0mx\u001b[0m\u001b[0;34m)\u001b[0m\u001b[0;34m\u001b[0m\u001b[0;34m\u001b[0m\u001b[0m\n\u001b[0m",
            "\u001b[0;31mTypeError\u001b[0m: 'int' object is not iterable"
          ]
        }
      ]
    },
    {
      "cell_type": "code",
      "metadata": {
        "id": "yEHlBKRXlaPK",
        "colab": {
          "base_uri": "https://localhost:8080/"
        },
        "outputId": "4aecc46e-7693-4fc0-da5d-6f14a73ac155"
      },
      "source": [
        "x = 'Bhubaneswar'\n",
        "print(x[0], x[1], x[3])\n",
        "print('Total Memory occupied by x :: ',sys.getsizeof(x))\n",
        "for i in x:\n",
        "  print(\"Memory occupied by \", i, 'is ', sys.getsizeof(i), 'and located at ', id(i))\n",
        "print('------------------------------------------------------------------------------')\n",
        "i = 0\n",
        "while i < len(x):\n",
        "  print(\"Memory occupied by \", x[i], 'is ', sys.getsizeof(x[i]), 'and located at ', id(x[i]))\n",
        "  i += 1"
      ],
      "execution_count": null,
      "outputs": [
        {
          "output_type": "stream",
          "text": [
            "B h b\n",
            "Total Memory occupied by x ::  60\n",
            "Memory occupied by  B is  50 and located at  140143098556176\n",
            "Memory occupied by  h is  50 and located at  140143098576320\n",
            "Memory occupied by  u is  50 and located at  140143099499328\n",
            "Memory occupied by  b is  50 and located at  140143099084960\n",
            "Memory occupied by  a is  50 and located at  140143098757840\n",
            "Memory occupied by  n is  50 and located at  140143098866072\n",
            "Memory occupied by  e is  50 and located at  140143099193136\n",
            "Memory occupied by  s is  50 and located at  140143099193192\n",
            "Memory occupied by  w is  50 and located at  140143099193024\n",
            "Memory occupied by  a is  50 and located at  140143098757840\n",
            "Memory occupied by  r is  50 and located at  140143099331224\n",
            "------------------------------------------------------------------------------\n",
            "Memory occupied by  B is  50 and located at  140143098556176\n",
            "Memory occupied by  h is  50 and located at  140143098576320\n",
            "Memory occupied by  u is  50 and located at  140143099499328\n",
            "Memory occupied by  b is  50 and located at  140143099084960\n",
            "Memory occupied by  a is  50 and located at  140143098757840\n",
            "Memory occupied by  n is  50 and located at  140143098866072\n",
            "Memory occupied by  e is  50 and located at  140143099193136\n",
            "Memory occupied by  s is  50 and located at  140143099193192\n",
            "Memory occupied by  w is  50 and located at  140143099193024\n",
            "Memory occupied by  a is  50 and located at  140143098757840\n",
            "Memory occupied by  r is  50 and located at  140143099331224\n"
          ],
          "name": "stdout"
        }
      ]
    },
    {
      "cell_type": "code",
      "metadata": {
        "id": "H4AWzD83FtJ8",
        "colab": {
          "base_uri": "https://localhost:8080/",
          "height": 34
        },
        "outputId": "16a513a2-d317-475c-bb41-0f085f718670"
      },
      "source": [
        "S = \"\"\n",
        "T = ''\n",
        "U = ''''''\n",
        "print(type(S),type(T), type(U))"
      ],
      "execution_count": null,
      "outputs": [
        {
          "output_type": "stream",
          "text": [
            "<class 'str'> <class 'str'> <class 'str'>\n"
          ],
          "name": "stdout"
        }
      ]
    },
    {
      "cell_type": "markdown",
      "metadata": {
        "id": "biYymU4ZFtKM"
      },
      "source": [
        "CONVERTIN A STRING INTO LIST"
      ]
    },
    {
      "cell_type": "code",
      "metadata": {
        "id": "wcShxy1NFtKP",
        "outputId": "7253682b-b327-4649-8744-ff4a7c73fad4"
      },
      "source": [
        "s = \"TRIDENT\"\n",
        "print('The s is a ',type(s))\n",
        "S=[]\n",
        "for i in range(len(s)):\n",
        "    print(s[i])\n",
        "for i in s:\n",
        "    S.append(i)\n",
        "    print(i)\n",
        "print(\"S is a :\", type(S))"
      ],
      "execution_count": null,
      "outputs": [
        {
          "output_type": "stream",
          "text": [
            "The s is a  <class 'str'>\n",
            "T\n",
            "R\n",
            "I\n",
            "D\n",
            "E\n",
            "N\n",
            "T\n",
            "T\n",
            "R\n",
            "I\n",
            "D\n",
            "E\n",
            "N\n",
            "T\n",
            "S is a : <class 'list'>\n"
          ],
          "name": "stdout"
        }
      ]
    },
    {
      "cell_type": "markdown",
      "metadata": {
        "id": "Sk1ZcYQDFtKd"
      },
      "source": [
        "UPDATING A STRING"
      ]
    },
    {
      "cell_type": "code",
      "metadata": {
        "id": "onRO3nMlFtKg",
        "outputId": "e523380c-58ca-4338-8878-9d2cf10c145d"
      },
      "source": [
        "s[0]='t'\n",
        "print(s)"
      ],
      "execution_count": null,
      "outputs": [
        {
          "output_type": "error",
          "ename": "TypeError",
          "evalue": "'str' object does not support item assignment",
          "traceback": [
            "\u001b[1;31m---------------------------------------------------------------------------\u001b[0m",
            "\u001b[1;31mTypeError\u001b[0m                                 Traceback (most recent call last)",
            "\u001b[1;32m<ipython-input-38-a9e27b91cd59>\u001b[0m in \u001b[0;36m<module>\u001b[1;34m()\u001b[0m\n\u001b[1;32m----> 1\u001b[1;33m \u001b[0ms\u001b[0m\u001b[1;33m[\u001b[0m\u001b[1;36m0\u001b[0m\u001b[1;33m]\u001b[0m\u001b[1;33m=\u001b[0m\u001b[1;34m't'\u001b[0m\u001b[1;33m\u001b[0m\u001b[0m\n\u001b[0m\u001b[0;32m      2\u001b[0m \u001b[0mprint\u001b[0m\u001b[1;33m(\u001b[0m\u001b[0ms\u001b[0m\u001b[1;33m)\u001b[0m\u001b[1;33m\u001b[0m\u001b[0m\n",
            "\u001b[1;31mTypeError\u001b[0m: 'str' object does not support item assignment"
          ]
        }
      ]
    },
    {
      "cell_type": "code",
      "metadata": {
        "id": "kclIdwCQFtKs",
        "outputId": "991b4660-2d57-45b8-c289-5334ae838d01"
      },
      "source": [
        "S[0]='t'\n",
        "print(S)"
      ],
      "execution_count": null,
      "outputs": [
        {
          "output_type": "stream",
          "text": [
            "['t', 'R', 'I', 'D', 'E', 'N', 'T']\n"
          ],
          "name": "stdout"
        }
      ]
    },
    {
      "cell_type": "markdown",
      "metadata": {
        "id": "Jr81UgxWFtK4"
      },
      "source": [
        "# LIST IN PYTHON"
      ]
    },
    {
      "cell_type": "markdown",
      "metadata": {
        "id": "zjGvGJoKFtK7"
      },
      "source": [
        "CREATING A LIST"
      ]
    },
    {
      "cell_type": "code",
      "metadata": {
        "id": "H0__3uIpFtK-",
        "colab": {
          "base_uri": "https://localhost:8080/",
          "height": 54
        },
        "outputId": "20674003-b88e-48f7-9511-d17ab653c4e0"
      },
      "source": [
        "L1 = [] # Creation of an Empty List\n",
        "print(type(L1))\n",
        "l1 = [1,2,'ert', 2.5]\n",
        "print(l1)"
      ],
      "execution_count": null,
      "outputs": [
        {
          "output_type": "stream",
          "text": [
            "<class 'list'>\n",
            "[1, 2, 'ert', 2.5]\n"
          ],
          "name": "stdout"
        }
      ]
    },
    {
      "cell_type": "code",
      "metadata": {
        "id": "10lSCJZ-q6fA",
        "colab": {
          "base_uri": "https://localhost:8080/",
          "height": 36
        },
        "outputId": "a97d9547-cb1a-4e55-ce23-dbef12e193ad"
      },
      "source": [
        "l = [1,2,3, 'asd', 45.2]\n",
        "print(sys.getsizeof(l), len(l))"
      ],
      "execution_count": null,
      "outputs": [
        {
          "output_type": "stream",
          "text": [
            "104 5\n"
          ],
          "name": "stdout"
        }
      ]
    },
    {
      "cell_type": "code",
      "metadata": {
        "id": "0KCr01Y1rMXw",
        "colab": {
          "base_uri": "https://localhost:8080/",
          "height": 111
        },
        "outputId": "bb4b0d64-6521-4eb2-9e91-9b651ef96a46"
      },
      "source": [
        "i = 0\n",
        "while i < len(l):\n",
        "  print(sys.getsizeof(l[i]), id(l[i]))\n",
        "  i += 1"
      ],
      "execution_count": null,
      "outputs": [
        {
          "output_type": "stream",
          "text": [
            "28 10914496\n",
            "28 10914528\n",
            "28 10914560\n",
            "52 140256282429624\n",
            "24 140256291542456\n"
          ],
          "name": "stdout"
        }
      ]
    },
    {
      "cell_type": "code",
      "metadata": {
        "id": "iAASYVR4s_SN",
        "colab": {
          "base_uri": "https://localhost:8080/",
          "height": 111
        },
        "outputId": "e9d5a23f-a05d-4426-fcf5-b60e0e5eaa71"
      },
      "source": [
        "l1 = [1,2,3,4]\n",
        "print('L1 is of size ', sys.getsizeof(l1))\n",
        "i = 0\n",
        "while i < len(l1):\n",
        "  print(sys.getsizeof(l1[i]), id(l1[i]))\n",
        "  i += 1"
      ],
      "execution_count": null,
      "outputs": [
        {
          "output_type": "stream",
          "text": [
            "L1 is of size  96\n",
            "28 10914496\n",
            "28 10914528\n",
            "28 10914560\n",
            "28 10914592\n"
          ],
          "name": "stdout"
        }
      ]
    },
    {
      "cell_type": "code",
      "metadata": {
        "id": "4DesS8z_XkbF",
        "colab": {
          "base_uri": "https://localhost:8080/",
          "height": 67
        },
        "outputId": "7b97adea-ce0d-4a1c-abcd-f8f7f053d5c6"
      },
      "source": [
        "Mark = []\n",
        "print(Mark)\n",
        "Mark.append(23)\n",
        "print(Mark)\n",
        "Mark.append(34)\n",
        "print(Mark)"
      ],
      "execution_count": null,
      "outputs": [
        {
          "output_type": "stream",
          "text": [
            "[]\n",
            "[23]\n",
            "[23, 34]\n"
          ],
          "name": "stdout"
        }
      ]
    },
    {
      "cell_type": "code",
      "metadata": {
        "id": "8JT6JZQWZmmW",
        "colab": {
          "base_uri": "https://localhost:8080/",
          "height": 101
        },
        "outputId": "c88b0f91-a18b-4dfe-c5c3-dfbd60e9e5bc"
      },
      "source": [
        "x = range(1,10,1)\n",
        "print(x, type(x))\n",
        "L = list(x)\n",
        "print(L,'\\n', type(L))\n",
        "i = 0\n",
        "print(len(L))\n",
        "while i < len(L):\n",
        "  print(L[i],end = '\\t')\n",
        "  i += 1"
      ],
      "execution_count": null,
      "outputs": [
        {
          "output_type": "stream",
          "text": [
            "range(1, 10) <class 'range'>\n",
            "[1, 2, 3, 4, 5, 6, 7, 8, 9] \n",
            " <class 'list'>\n",
            "9\n",
            "1\t2\t3\t4\t5\t6\t7\t8\t9\t"
          ],
          "name": "stdout"
        }
      ]
    },
    {
      "cell_type": "code",
      "metadata": {
        "id": "cjxl4aTHcfBK",
        "colab": {
          "base_uri": "https://localhost:8080/",
          "height": 168
        },
        "outputId": "3b226df9-7d41-495e-f67b-ac16bf792218"
      },
      "source": [
        "M = L\n",
        "print(M)\n",
        "M[0] = 'Hi'\n",
        "print\n",
        "if id(M[0]) == id(L[0]):\n",
        "  print('This is aliasig or shalow copy')\n",
        "else:\n",
        "  print('This is a clone or deep copy')\n",
        "print\n",
        "if id(M) == id(L):\n",
        "  print('This is aliasig or shalow copy')\n",
        "else:\n",
        "  print('This is a clone or deep copy')\n",
        "print('L = ', L)\n",
        "\n",
        "\n",
        "N = L[:]\n",
        "print('N= ', N)\n",
        "N[0] = 'Bye'\n",
        "print(L,'\\n', N)\n",
        "\n",
        "if id(N) == id(L):\n",
        "  print('This is aliasig or shalow copy')\n",
        "else:\n",
        "  print('This is a clone or deep copy')\n",
        "M = ['A', 'B', 'C']\n",
        "\n",
        "print(hex(id(M)), hex(id(L)))"
      ],
      "execution_count": null,
      "outputs": [
        {
          "output_type": "stream",
          "text": [
            "['Hi', 2, 3, 4, 5, 6, 7, 8, 9]\n",
            "This is aliasig or shalow copy\n",
            "This is aliasig or shalow copy\n",
            "L =  ['Hi', 2, 3, 4, 5, 6, 7, 8, 9]\n",
            "N=  ['Hi', 2, 3, 4, 5, 6, 7, 8, 9]\n",
            "['Hi', 2, 3, 4, 5, 6, 7, 8, 9] \n",
            " ['Bye', 2, 3, 4, 5, 6, 7, 8, 9]\n",
            "This is a clone or deep copy\n",
            "0x7f44ce0e4c48 0x7f44ce0e4988\n"
          ],
          "name": "stdout"
        }
      ]
    },
    {
      "cell_type": "code",
      "metadata": {
        "id": "HGflZnbUeEo8",
        "colab": {
          "base_uri": "https://localhost:8080/",
          "height": 67
        },
        "outputId": "79aaa87c-5e58-4c16-a13e-54a82130466b"
      },
      "source": [
        "A = 'Hi'\n",
        "B = A\n",
        "if id(A) == id(B):\n",
        "  print('This is aliasig or shalow copy')\n",
        "else:\n",
        "  print('This is a clone or deep copy')\n",
        "  \n",
        "A = 'Bye'\n",
        "print(B)\n",
        "\n",
        "if id(A) == id(B):\n",
        "  print('This is aliasig or shalow copy')\n",
        "else:\n",
        "  print('This is a clone or deep copy')\n",
        "  \n",
        "  "
      ],
      "execution_count": null,
      "outputs": [
        {
          "output_type": "stream",
          "text": [
            "This is aliasig or shalow copy\n",
            "Hi\n",
            "This is a clone or deep copy\n"
          ],
          "name": "stdout"
        }
      ]
    },
    {
      "cell_type": "code",
      "metadata": {
        "id": "uPNPpfMmFtLL",
        "colab": {
          "base_uri": "https://localhost:8080/",
          "height": 50
        },
        "outputId": "23162a56-4356-427d-8bd8-67743d347145"
      },
      "source": [
        "L2 = [1,2,3,4,5] # List of Numbers\n",
        "print(L2)\n",
        "#print(L2[0]) # Indexing of List starts from 0\n",
        "#print(L2[4])\n",
        "print(L[1:4])"
      ],
      "execution_count": null,
      "outputs": [
        {
          "output_type": "stream",
          "text": [
            "[1, 2, 3, 4, 5]\n",
            "[2, 3, 4]\n"
          ],
          "name": "stdout"
        }
      ]
    },
    {
      "cell_type": "markdown",
      "metadata": {
        "id": "DvCYDAhfFtLb"
      },
      "source": [
        "HETEROGENOUS LIST"
      ]
    },
    {
      "cell_type": "code",
      "metadata": {
        "id": "omGyhEeVFtLf",
        "outputId": "f556a951-1a42-4ff3-bf6e-438339426b1e"
      },
      "source": [
        "L3 = [1,'1']\n",
        "print(L3)"
      ],
      "execution_count": null,
      "outputs": [
        {
          "output_type": "stream",
          "text": [
            "[1, '1']\n"
          ],
          "name": "stdout"
        }
      ]
    },
    {
      "cell_type": "markdown",
      "metadata": {
        "id": "Kk-ZZO5nFtLu"
      },
      "source": [
        "# ACCESSING LIST ELEMENTS & SLICES"
      ]
    },
    {
      "cell_type": "code",
      "metadata": {
        "id": "kVwOk3b1FtLx",
        "colab": {
          "base_uri": "https://localhost:8080/",
          "height": 129
        },
        "outputId": "db5cabab-5cf6-407f-abd7-93421c7e2ee8"
      },
      "source": [
        "count = 0\n",
        "COLORS = [\"RED\",\"GREEN\",\"BLUE\",\"PINK\",\"YELLOW\"]\n",
        "for i in COLORS:\n",
        "    print(i)\n",
        "    count += 1\n",
        "print(\"Number of Element present in \", count)    "
      ],
      "execution_count": null,
      "outputs": [
        {
          "output_type": "stream",
          "text": [
            "RED\n",
            "GREEN\n",
            "BLUE\n",
            "PINK\n",
            "YELLOW\n",
            "Number of Element present in  5\n"
          ],
          "name": "stdout"
        }
      ]
    },
    {
      "cell_type": "code",
      "metadata": {
        "id": "5ZdrMQ_Gz9I7",
        "colab": {
          "base_uri": "https://localhost:8080/",
          "height": 73
        },
        "outputId": "62f1ee29-529a-455e-daf3-7f408604581a"
      },
      "source": [
        "COLORS.append('BROWN')\n",
        "print(COLORS)\n",
        "COLORS.pop()\n",
        "print(COLORS)\n",
        "COLORS.insert(1, 'IVORY')\n",
        "print(COLORS)"
      ],
      "execution_count": null,
      "outputs": [
        {
          "output_type": "stream",
          "text": [
            "['RED', 'GREEN', 'BLUE', 'PINK', 'YELLOW', 'BROWN']\n",
            "['RED', 'GREEN', 'BLUE', 'PINK', 'YELLOW']\n",
            "['RED', 'IVORY', 'GREEN', 'BLUE', 'PINK', 'YELLOW']\n"
          ],
          "name": "stdout"
        }
      ]
    },
    {
      "cell_type": "code",
      "metadata": {
        "id": "wF7s0FA1whzl",
        "colab": {
          "base_uri": "https://localhost:8080/",
          "height": 129
        },
        "outputId": "f8523fae-c989-42e2-b13e-47456af4ccd1"
      },
      "source": [
        "COLORS = [\"RED\",\"GREEN\",\"BLUE\",\"PINK\",\"YELLOW\"]\n",
        "count = 0\n",
        "while count < len(COLORS):\n",
        "  print(COLORS[count : count + 2])\n",
        "  count += 1\n",
        "print(count)\n"
      ],
      "execution_count": null,
      "outputs": [
        {
          "output_type": "stream",
          "text": [
            "['RED', 'GREEN']\n",
            "['GREEN', 'BLUE']\n",
            "['BLUE', 'PINK']\n",
            "['PINK', 'YELLOW']\n",
            "['YELLOW']\n",
            "5\n"
          ],
          "name": "stdout"
        }
      ]
    },
    {
      "cell_type": "markdown",
      "metadata": {
        "id": "TvUt2-xAFtL-"
      },
      "source": [
        "# GETTING THE LENGTH OF THE LIST"
      ]
    },
    {
      "cell_type": "code",
      "metadata": {
        "id": "DZMYgxJ8FtMB",
        "outputId": "f5b3ba77-bea6-4481-80a4-e568f772da69"
      },
      "source": [
        "print(len(L1))\n",
        "print(len(L2))\n",
        "print(len(L3))"
      ],
      "execution_count": null,
      "outputs": [
        {
          "output_type": "stream",
          "text": [
            "0\n",
            "5\n",
            "2\n"
          ],
          "name": "stdout"
        }
      ]
    },
    {
      "cell_type": "markdown",
      "metadata": {
        "id": "PbrsdBTAFtMO"
      },
      "source": [
        "#PRINTING USING LEN FUNCTION"
      ]
    },
    {
      "cell_type": "code",
      "metadata": {
        "id": "tAnHzi14FtMR",
        "outputId": "9a08d1dd-9432-4492-a9ab-290d75881530"
      },
      "source": [
        "for i in range(len(COLORS)):\n",
        "    print(i,\"\\t\",COLORS[i])"
      ],
      "execution_count": null,
      "outputs": [
        {
          "output_type": "stream",
          "text": [
            "0 \t RED\n",
            "1 \t GREEN\n",
            "2 \t BLUE\n",
            "3 \t PINK\n",
            "4 \t YELLOW\n"
          ],
          "name": "stdout"
        }
      ]
    },
    {
      "cell_type": "markdown",
      "metadata": {
        "id": "cRCR5wgjFtMh"
      },
      "source": [
        "# LIST FUNCTIONS"
      ]
    },
    {
      "cell_type": "code",
      "metadata": {
        "id": "XP3MCnvGFtMk",
        "outputId": "f166409c-c787-4c99-ad2b-5783aa3c2fc1"
      },
      "source": [
        "print(max(L2))\n",
        "print(max(COLORS))"
      ],
      "execution_count": null,
      "outputs": [
        {
          "output_type": "stream",
          "text": [
            "5\n",
            "YELLOW\n"
          ],
          "name": "stdout"
        }
      ]
    },
    {
      "cell_type": "markdown",
      "metadata": {
        "id": "VrVNZ7K0FtMz"
      },
      "source": [
        "# LIST METHODS"
      ]
    },
    {
      "cell_type": "code",
      "metadata": {
        "id": "0CCsHoDkFtM8"
      },
      "source": [
        "fruits = ['orange', 'apple', 'pear', 'banana', 'kiwi', 'apple', 'banana']"
      ],
      "execution_count": null,
      "outputs": []
    },
    {
      "cell_type": "code",
      "metadata": {
        "id": "ZELO5WOgFtNH",
        "outputId": "d7af51ca-90a4-4b2d-984d-fe25a968cd48"
      },
      "source": [
        "print(fruits.count('apple'))"
      ],
      "execution_count": null,
      "outputs": [
        {
          "output_type": "stream",
          "text": [
            "2\n"
          ],
          "name": "stdout"
        }
      ]
    },
    {
      "cell_type": "code",
      "metadata": {
        "id": "6K1Qo9-vFtNV"
      },
      "source": [
        "fruits.count('tangerine')"
      ],
      "execution_count": null,
      "outputs": []
    },
    {
      "cell_type": "code",
      "metadata": {
        "id": "9BFRU9AeFtNp"
      },
      "source": [
        "fruits.index('banana')"
      ],
      "execution_count": null,
      "outputs": []
    },
    {
      "cell_type": "code",
      "metadata": {
        "id": "n89OgXvPFtN5"
      },
      "source": [
        "fruits.index('banana', 4)  # Find next banana starting a position 4"
      ],
      "execution_count": null,
      "outputs": []
    },
    {
      "cell_type": "code",
      "metadata": {
        "id": "OyaaBlfxFtOF"
      },
      "source": [
        "fruits.reverse()\n",
        "fruits"
      ],
      "execution_count": null,
      "outputs": []
    },
    {
      "cell_type": "code",
      "metadata": {
        "id": "mqvh-DqAFtOO"
      },
      "source": [
        "fruits.append('grape')\n",
        "fruits"
      ],
      "execution_count": null,
      "outputs": []
    },
    {
      "cell_type": "code",
      "metadata": {
        "id": "fD6w_gaSFtOZ"
      },
      "source": [
        "fruits.sort()\n",
        "fruits"
      ],
      "execution_count": null,
      "outputs": []
    },
    {
      "cell_type": "code",
      "metadata": {
        "id": "JvUw6yZ2FtOi"
      },
      "source": [
        "fruits.pop()"
      ],
      "execution_count": null,
      "outputs": []
    },
    {
      "cell_type": "markdown",
      "metadata": {
        "id": "RIpV9-t4FtOq"
      },
      "source": [
        "# HANDS ON LIST METHOD"
      ]
    },
    {
      "cell_type": "markdown",
      "metadata": {
        "id": "hW5GhwA7FtOt"
      },
      "source": [
        "list.append(Object)"
      ]
    },
    {
      "cell_type": "code",
      "metadata": {
        "id": "DQij6PfBFtOv",
        "outputId": "004e2a4e-5f64-470d-e7c6-4fa97ffcf2e5"
      },
      "source": [
        "# Create an Empty List and appned the objects from user input, simultenously print the List Content alog with the lenght\n",
        "li=[]\n",
        "choice = 'Y'\n",
        "while(choice == 'Y'):\n",
        "    ob=input(\"Enter the item to be inserted:::\")\n",
        "    li.append(ob)\n",
        "    for i in range(len(li)):\n",
        "        print(i,\"\\t\",li[i])\n",
        "    choice = input(\"For instering into List enter Y else enter N::: \")"
      ],
      "execution_count": null,
      "outputs": [
        {
          "output_type": "stream",
          "text": [
            "Enter the item to be inserted3\n",
            "0 \t 3\n",
            "For instering into List enter Y else enter NY\n",
            "Enter the item to be inserted34\n",
            "0 \t 3\n",
            "1 \t 34\n",
            "For instering into List enter Y else enter NY\n",
            "Enter the item to be insertedTRIDENT\n",
            "0 \t 3\n",
            "1 \t 34\n",
            "2 \t TRIDENT\n",
            "For instering into List enter Y else enter NY\n",
            "Enter the item to be insertedACADEMY\n",
            "0 \t 3\n",
            "1 \t 34\n",
            "2 \t TRIDENT\n",
            "3 \t ACADEMY\n",
            "For instering into List enter Y else enter NY\n",
            "Enter the item to be insertedOF\n",
            "0 \t 3\n",
            "1 \t 34\n",
            "2 \t TRIDENT\n",
            "3 \t ACADEMY\n",
            "4 \t OF\n",
            "For instering into List enter Y else enter NTECHNOLOGY\n"
          ],
          "name": "stdout"
        }
      ]
    },
    {
      "cell_type": "markdown",
      "metadata": {
        "id": "wUj9CwgaFtO9"
      },
      "source": [
        "list.count()"
      ]
    },
    {
      "cell_type": "code",
      "metadata": {
        "id": "PxXt_x9mFtPA",
        "outputId": "1597c06b-fff7-4543-b6c0-d9105bb875cc"
      },
      "source": [
        "print(li.count('3'))"
      ],
      "execution_count": null,
      "outputs": [
        {
          "output_type": "stream",
          "text": [
            "1\n"
          ],
          "name": "stdout"
        }
      ]
    },
    {
      "cell_type": "markdown",
      "metadata": {
        "id": "los1_-7_FtPK"
      },
      "source": [
        "list.extend(list2)"
      ]
    },
    {
      "cell_type": "code",
      "metadata": {
        "id": "YjDD4ktTFtPN",
        "outputId": "a03e9b76-febf-4777-e0b7-e7f8f5ff66f8"
      },
      "source": [
        "list2=[\"Technology\",\"Bhubaneswar\"]\n",
        "li.extend(list2)\n",
        "print(li)"
      ],
      "execution_count": null,
      "outputs": [
        {
          "output_type": "stream",
          "text": [
            "['3', '34', 'TRIDENT', 'ACADEMY', 'OF', 'Technology', 'Bhubaneswar']\n"
          ],
          "name": "stdout"
        }
      ]
    },
    {
      "cell_type": "markdown",
      "metadata": {
        "id": "o_zBRZEBFtPa"
      },
      "source": [
        "# TUPLE IN PYTHON"
      ]
    },
    {
      "cell_type": "markdown",
      "metadata": {
        "id": "P6UNXy_wFtPc"
      },
      "source": [
        "Tuples are imutable i.e. you can not change the value"
      ]
    },
    {
      "cell_type": "code",
      "metadata": {
        "id": "g3qmW_uQFtPf",
        "outputId": "eb835dd0-eda1-4401-8fd6-1a4ab297f88d"
      },
      "source": [
        "t1 = (); # Empty String\n",
        "print(t1)\n",
        "t2 = ('physics','chemistry','1997')\n",
        "print(t2)\n",
        "t3 = (5,)\n",
        "print(t3)\n",
        "t4 = (1,2,3,4,5,)\n",
        "print(t4)\n",
        "print(type(t1),type(t2))"
      ],
      "execution_count": null,
      "outputs": [
        {
          "output_type": "stream",
          "text": [
            "()\n",
            "('physics', 'chemistry', '1997')\n",
            "(5,)\n",
            "(1, 2, 3, 4, 5)\n",
            "<class 'tuple'> <class 'tuple'>\n"
          ],
          "name": "stdout"
        }
      ]
    },
    {
      "cell_type": "markdown",
      "metadata": {
        "id": "1-F6UpMxFtPr"
      },
      "source": [
        "TUPLE OPERATION"
      ]
    },
    {
      "cell_type": "code",
      "metadata": {
        "id": "mncie1EzFtPu",
        "outputId": "df6cb594-b56a-46d0-9fd7-f6577287c801"
      },
      "source": [
        "t5=t2+t4\n",
        "print('Concatenated Tuple : ', t5)\n",
        "t6=t4*3\n",
        "print('Repetation: ',t6)\n",
        "print('Memebership Test using in : ', 3 in t4)\n",
        "print('Iteration ')\n",
        "for i in t4:\n",
        "    print(i)"
      ],
      "execution_count": null,
      "outputs": [
        {
          "output_type": "stream",
          "text": [
            "Concatenated Tuple :  ('physics', 'chemistry', '1997', 1, 2, 3, 4, 5)\n",
            "Repetation:  (1, 2, 3, 4, 5, 1, 2, 3, 4, 5, 1, 2, 3, 4, 5)\n",
            "Memebership Test using in :  True\n",
            "Iteration \n",
            "1\n",
            "2\n",
            "3\n",
            "4\n",
            "5\n"
          ],
          "name": "stdout"
        }
      ]
    }
  ]
}
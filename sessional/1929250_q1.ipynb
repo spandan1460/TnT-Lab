{
 "cells": [
  {
   "cell_type": "markdown",
   "metadata": {},
   "source": [
    "### Q1. Implement an OS scheduling scheme with the following algorithm, written in different function, these function should return the **correct schedule along with average turnaround time, wait time.**"
   ]
  },
  {
   "cell_type": "markdown",
   "metadata": {},
   "source": [
    "**Shortest Job First**"
   ]
  },
  {
   "cell_type": "markdown",
   "metadata": {},
   "source": [
    "To find the waiting time"
   ]
  },
  {
   "cell_type": "code",
   "execution_count": 1,
   "metadata": {},
   "outputs": [],
   "source": [
    "def findWaitingTime(processes, n, wt):\n",
    "    rem_bt = [0] * n\n",
    "    for i in range(n):\n",
    "        rem_bt[i] = processes[i][1]\n",
    "    t = 0\n",
    "    while(1):\n",
    "        done = True\n",
    "        for i in range(n):\n",
    "            if rem_bt[i] > 0:\n",
    "                done = False\n",
    "                if rem_bt[i] > processes[i][2]:\n",
    "                    t += processes[i][2]\n",
    "                    rem_bt[i] -= processes[i][2]\n",
    "                else:\n",
    "                    t = t + rem_bt[i]\n",
    "                    wt[i] = t - processes[i][1]\n",
    "                    rem_bt[i] = 0\n",
    "        if done == True:\n",
    "            break"
   ]
  },
  {
   "cell_type": "markdown",
   "metadata": {},
   "source": [
    "To find the turn around time"
   ]
  },
  {
   "cell_type": "code",
   "execution_count": 2,
   "metadata": {},
   "outputs": [],
   "source": [
    "def findTurnAroundTime(processes, n, wt, tat):\n",
    "    for i in range(n):\n",
    "        tat[i] = processes[i][1] + wt[i]"
   ]
  },
  {
   "cell_type": "markdown",
   "metadata": {},
   "source": [
    "To find the average time"
   ]
  },
  {
   "cell_type": "code",
   "execution_count": 3,
   "metadata": {},
   "outputs": [],
   "source": [
    "def findavgTime(processes,n):\n",
    "    wt = [0] * n\n",
    "    tat = [0] * n\n",
    " \n",
    "    # Function to find waiting time\n",
    "    findWaitingTime(processes, n, wt)\n",
    " \n",
    "    # Function to find turn around time\n",
    "    findTurnAroundTime(processes, n, wt, tat)\n",
    " \n",
    "    # Displaying the processes\n",
    "    print(\"Processes    Burst Time     Waiting\", \"Time     Turn-Around Time\")\n",
    "    total_wt = 0\n",
    "    total_tat = 0\n",
    "    for i in range(n):\n",
    " \n",
    "        total_wt = total_wt + wt[i]\n",
    "        total_tat = total_tat + tat[i]\n",
    "        print(\" \", processes[i][0], \"\\t\\t\", processes[i][1], \"\\t\\t\", wt[i], \"\\t\\t\", tat[i])\n",
    " \n",
    "    print(\"\\nAverage waiting time = %.5f \"%(total_wt /n) )\n",
    "    print(\"Average turn around time = \", total_tat / n)"
   ]
  },
  {
   "cell_type": "markdown",
   "metadata": {},
   "source": [
    "**Driver Code** (Taking user input)"
   ]
  },
  {
   "cell_type": "code",
   "execution_count": 4,
   "metadata": {},
   "outputs": [
    {
     "name": "stdout",
     "output_type": "stream",
     "text": [
      "The processes are: [[1, 6, 1], [2, 8, 1], [3, 7, 2], [4, 3, 3]]\n",
      "Processes    Burst Time     Waiting Time     Turn-Around Time\n",
      "  1 \t\t 6 \t\t 12 \t\t 18\n",
      "  2 \t\t 8 \t\t 13 \t\t 21\n",
      "  3 \t\t 7 \t\t 8 \t\t 15\n",
      "\n",
      "Average waiting time = 11.00000 \n",
      "Average turn around time =  18.0\n"
     ]
    }
   ],
   "source": [
    "if __name__ == \"__main__\":\n",
    "    x=int(input(\"Enter the number of processes\"))\n",
    "    n= 3\n",
    "    processes=[]\n",
    "    sublist=[]\n",
    "    for i in range(x):\n",
    "        for j in range(n):\n",
    "            sublist.append(int(input(\"Enter the process id\")))\n",
    "        processes.append(sublist)\n",
    "        sublist=[]\n",
    "    print(\"The processes are:\",processes)\n",
    "\n",
    "    findavgTime(processes,n)"
   ]
  },
  {
   "cell_type": "markdown",
   "metadata": {},
   "source": [
    "**FCFS**"
   ]
  },
  {
   "cell_type": "code",
   "execution_count": null,
   "metadata": {},
   "outputs": [],
   "source": [
    "n= int(input(\"Enter number of processes : \"))\n",
    "d = dict()\n",
    " \n",
    "for i in range(n):\n",
    "    key = \"P\"+str(i+1)\n",
    "    a = int(input(\"Enter arrival time of process\"+str(i+1)+\": \"))\n",
    "    b = int(input(\"Enter burst time of process\"+str(i+1)+\": \"))\n",
    "    l = []\n",
    "    l.append(a)\n",
    "    l.append(b)\n",
    "    d[key] = l\n",
    " \n",
    "d = sorted(d.items(), key=lambda item: item[1][0])\n",
    " \n",
    "ET = []\n",
    "for i in range(len(d)):\n",
    "    if(i==0):             #1st process\n",
    "        ET.append(d[i][1][1])\n",
    " \n",
    "    else:\n",
    "        ET.append(ET[i-1] + d[i][1][1])\n",
    " \n",
    "TAT = []\n",
    "for i in range(len(d)):\n",
    "    TAT.append(ET[i] - d[i][1][0])\n",
    " \n",
    "WT = []\n",
    "for i in range(len(d)):\n",
    "    WT.append(TAT[i] - d[i][1][1])\n",
    " \n",
    "avg_WT = 0\n",
    "for i in WT:\n",
    "    avg_WT +=i\n",
    "avg_WT = (avg_WT/n)\n",
    " \n",
    "print(\"Process | Arrival | Burst | Exit | Turn Around | Wait |\")\n",
    "for i in range(n):\n",
    "      print(\"   \",d[i][0],\"   |   \",d[i][1][0],\" |    \",d[i][1][1],\" |    \",ET[i],\"  |    \",TAT[i],\"  |   \",WT[i],\"   |  \")\n",
    "print(\"Average Waiting Time: \",avg_WT)"
   ]
  },
  {
   "cell_type": "markdown",
   "metadata": {},
   "source": [
    "# **Round Robin**"
   ]
  },
  {
   "cell_type": "code",
   "execution_count": 1,
   "metadata": {},
   "outputs": [
    {
     "name": "stdout",
     "output_type": "stream",
     "text": [
      "Process_ID  Arrival_Time  Rem_Burst_Time   Completed  Original_Burst_Time  Completion_Time  Turnaround_Time  Waiting_Time\n",
      "1\t\t\t\t2\t\t\t\t0\t\t\t\t1\t\t\t\t2\t\t\t\t5\t\t\t\t3\t\t\t\t1\t\t\t\t\n",
      "2\t\t\t\t4\t\t\t\t0\t\t\t\t1\t\t\t\t1\t\t\t\t6\t\t\t\t2\t\t\t\t1\t\t\t\t\n",
      "3\t\t\t\t2\t\t\t\t0\t\t\t\t1\t\t\t\t1\t\t\t\t3\t\t\t\t1\t\t\t\t0\t\t\t\t\n",
      "Average Turnaround Time: 2.0\n",
      "Average Waiting Time: 0.6666666666666666\n",
      "Sequence of Processes: [3, 1, 2]\n"
     ]
    }
   ],
   "source": [
    "#Round robin\n",
    "class RoundRobin:\n",
    "\n",
    "    def processData(self, no_of_processes):\n",
    "        process_data = []\n",
    "        for i in range(no_of_processes):\n",
    "            temporary = []\n",
    "            process_id = int(input(\"Enter Process ID: \"))\n",
    "\n",
    "            arrival_time = int(input(f\"Enter Arrival Time for Process {process_id}: \"))\n",
    "\n",
    "            burst_time = int(input(f\"Enter Burst Time for Process {process_id}: \"))\n",
    "\n",
    "            temporary.extend([process_id, arrival_time, burst_time, 0, burst_time])\n",
    "           \n",
    "            process_data.append(temporary)\n",
    "\n",
    "        time_slice = int(input(\"Enter Time Slice: \"))\n",
    "\n",
    "        RoundRobin.schedulingProcess(self, process_data, time_slice)\n",
    "\n",
    "    def schedulingProcess(self, process_data, time_slice):\n",
    "        start_time = []\n",
    "        exit_time = []\n",
    "        executed_process = []\n",
    "        ready_queue = []\n",
    "        s_time = 0\n",
    "        process_data.sort(key=lambda x: x[1])\n",
    "        \n",
    "        while 1:\n",
    "            normal_queue = []\n",
    "            temp = []\n",
    "            for i in range(len(process_data)):\n",
    "                if process_data[i][1] <= s_time and process_data[i][3] == 0:\n",
    "                    present = 0\n",
    "                    if len(ready_queue) != 0:\n",
    "                        for k in range(len(ready_queue)):\n",
    "                            if process_data[i][0] == ready_queue[k][0]:\n",
    "                                present = 1\n",
    "                    \n",
    "                    if present == 0:\n",
    "                        temp.extend([process_data[i][0], process_data[i][1], process_data[i][2], process_data[i][4]])\n",
    "                        ready_queue.append(temp)\n",
    "                        temp = []\n",
    "                   \n",
    "                    if len(ready_queue) != 0 and len(executed_process) != 0:\n",
    "                        for k in range(len(ready_queue)):\n",
    "                            if ready_queue[k][0] == executed_process[len(executed_process) - 1]:\n",
    "                                ready_queue.insert((len(ready_queue) - 1), ready_queue.pop(k))\n",
    "                    \n",
    "                elif process_data[i][3] == 0:\n",
    "                    temp.extend([process_data[i][0], process_data[i][1], process_data[i][2], process_data[i][4]])\n",
    "                    normal_queue.append(temp)\n",
    "                    temp = []\n",
    "            if len(ready_queue) == 0 and len(normal_queue) == 0:\n",
    "                break\n",
    "            if len(ready_queue) != 0:\n",
    "                if ready_queue[0][2] > time_slice:\n",
    "                    \n",
    "                    start_time.append(s_time)\n",
    "                    s_time = s_time + time_slice\n",
    "                    e_time = s_time\n",
    "                    exit_time.append(e_time)\n",
    "                    executed_process.append(ready_queue[0][0])\n",
    "                    for j in range(len(process_data)):\n",
    "                        if process_data[j][0] == ready_queue[0][0]:\n",
    "                            break\n",
    "                    process_data[j][2] = process_data[j][2] - time_slice\n",
    "                    ready_queue.pop(0)\n",
    "                elif ready_queue[0][2] <= time_slice:\n",
    "                    \n",
    "                    start_time.append(s_time)\n",
    "                    s_time = s_time + ready_queue[0][2]\n",
    "                    e_time = s_time\n",
    "                    exit_time.append(e_time)\n",
    "                    executed_process.append(ready_queue[0][0])\n",
    "                    for j in range(len(process_data)):\n",
    "                        if process_data[j][0] == ready_queue[0][0]:\n",
    "                            break\n",
    "                    process_data[j][2] = 0\n",
    "                    process_data[j][3] = 1\n",
    "                    process_data[j].append(e_time)\n",
    "                    ready_queue.pop(0)\n",
    "            elif len(ready_queue) == 0:\n",
    "                if s_time < normal_queue[0][1]:\n",
    "                    s_time = normal_queue[0][1]\n",
    "                if normal_queue[0][2] > time_slice:\n",
    "                    \n",
    "                    start_time.append(s_time)\n",
    "                    s_time = s_time + time_slice\n",
    "                    e_time = s_time\n",
    "                    exit_time.append(e_time)\n",
    "                    executed_process.append(normal_queue[0][0])\n",
    "                    for j in range(len(process_data)):\n",
    "                        if process_data[j][0] == normal_queue[0][0]:\n",
    "                            break\n",
    "                    process_data[j][2] = process_data[j][2] - time_slice\n",
    "                elif normal_queue[0][2] <= time_slice:\n",
    "                    \n",
    "                    start_time.append(s_time)\n",
    "                    s_time = s_time + normal_queue[0][2]\n",
    "                    e_time = s_time\n",
    "                    exit_time.append(e_time)\n",
    "                    executed_process.append(normal_queue[0][0])\n",
    "                    for j in range(len(process_data)):\n",
    "                        if process_data[j][0] == normal_queue[0][0]:\n",
    "                            break\n",
    "                    process_data[j][2] = 0\n",
    "                    process_data[j][3] = 1\n",
    "                    process_data[j].append(e_time)\n",
    "        t_time = RoundRobin.calculateTurnaroundTime(self, process_data)\n",
    "        w_time = RoundRobin.calculateWaitingTime(self, process_data)\n",
    "        RoundRobin.printData(self, process_data, t_time, w_time, executed_process)\n",
    "\n",
    "    def calculateTurnaroundTime(self, process_data):\n",
    "        total_turnaround_time = 0\n",
    "        for i in range(len(process_data)):\n",
    "            turnaround_time = process_data[i][5] - process_data[i][1]\n",
    "            '''\n",
    "            turnaround_time = completion_time - arrival_time\n",
    "            '''\n",
    "            total_turnaround_time = total_turnaround_time + turnaround_time\n",
    "            process_data[i].append(turnaround_time)\n",
    "        average_turnaround_time = total_turnaround_time / len(process_data)\n",
    "        \n",
    "        return average_turnaround_time\n",
    "\n",
    "    def calculateWaitingTime(self, process_data):\n",
    "        total_waiting_time = 0\n",
    "        for i in range(len(process_data)):\n",
    "            waiting_time = process_data[i][6] - process_data[i][4]\n",
    "            '''\n",
    "            waiting_time = turnaround_time - burst_time\n",
    "            '''\n",
    "            total_waiting_time = total_waiting_time + waiting_time\n",
    "            process_data[i].append(waiting_time)\n",
    "        average_waiting_time = total_waiting_time / len(process_data)\n",
    "       \n",
    "        return average_waiting_time\n",
    "\n",
    "    def printData(self, process_data, average_turnaround_time, average_waiting_time, executed_process):\n",
    "        process_data.sort(key=lambda x: x[0])\n",
    "       \n",
    "        print(\"Process_ID  Arrival_Time  Rem_Burst_Time   Completed  Original_Burst_Time  Completion_Time  Turnaround_Time  Waiting_Time\")\n",
    "        for i in range(len(process_data)):\n",
    "            for j in range(len(process_data[i])):\n",
    "\n",
    "                print(process_data[i][j], end=\"\t\t\t\t\")\n",
    "            print()\n",
    "\n",
    "        print(f'Average Turnaround Time: {average_turnaround_time}')\n",
    "\n",
    "        print(f'Average Waiting Time: {average_waiting_time}')\n",
    "\n",
    "        print(f'Sequence of Processes: {executed_process}')\n",
    "\n",
    "\n",
    "if __name__ == \"__main__\":\n",
    "    no_of_processes = int(input(\"Enter number of processes: \"))\n",
    "    rr = RoundRobin()\n",
    "    rr.processData(no_of_processes)"
   ]
  },
  {
   "cell_type": "code",
   "execution_count": null,
   "metadata": {},
   "outputs": [],
   "source": []
  }
 ],
 "metadata": {
  "interpreter": {
   "hash": "53b144c10255056ba138318079d6915f61635f604f049884bb1cb292c1bb44d7"
  },
  "kernelspec": {
   "display_name": "Python 3.9.7 ('base')",
   "language": "python",
   "name": "python3"
  },
  "language_info": {
   "codemirror_mode": {
    "name": "ipython",
    "version": 3
   },
   "file_extension": ".py",
   "mimetype": "text/x-python",
   "name": "python",
   "nbconvert_exporter": "python",
   "pygments_lexer": "ipython3",
   "version": "3.9.7"
  },
  "orig_nbformat": 4
 },
 "nbformat": 4,
 "nbformat_minor": 2
}

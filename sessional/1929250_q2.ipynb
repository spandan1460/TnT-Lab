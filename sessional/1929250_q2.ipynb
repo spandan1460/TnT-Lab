{
 "cells": [
  {
   "cell_type": "code",
   "execution_count": 1,
   "metadata": {},
   "outputs": [
    {
     "name": "stdout",
     "output_type": "stream",
     "text": [
      "Edge \tWeight\n",
      "0 - 1 \t 2\n",
      "1 - 2 \t 3\n",
      "0 - 3 \t 6\n",
      "1 - 4 \t 5\n"
     ]
    }
   ],
   "source": [
    "import sys \n",
    "\n",
    "class Graph():\n",
    "\n",
    "\tdef __init__(self, vertices):\n",
    "\t\tself.V = vertices\n",
    "\t\tself.graph = [[0 for column in range(vertices)]\n",
    "\t\t\t\t\tfor row in range(vertices)]\n",
    "\n",
    "\t\n",
    "\tdef printMST(self, parent):\n",
    "\t\tprint (\"Edge \\tWeight\")\n",
    "\t\tfor i in range(1, self.V):\n",
    "\t\t\tprint (parent[i], \"-\", i, \"\\t\", self.graph[i][parent[i]])\n",
    "\n",
    "\tdef minKey(self, key, mstSet):\n",
    "\n",
    "\t\t\n",
    "\t\tmin = sys.maxsize\n",
    "\n",
    "\t\tfor v in range(self.V):\n",
    "\t\t\tif key[v] < min and mstSet[v] == False:\n",
    "\t\t\t\tmin = key[v]\n",
    "\t\t\t\tmin_index = v\n",
    "\n",
    "\t\treturn min_index\n",
    "\n",
    "\t\n",
    "\tdef primMST(self):\n",
    "\n",
    "\t\tkey = [sys.maxsize] * self.V\n",
    "\t\tparent = [None] * self.V \n",
    "\t\tkey[0] = 0\n",
    "\t\tmstSet = [False] * self.V\n",
    "\n",
    "\t\tparent[0] = -1 \n",
    "\n",
    "\t\tfor cout in range(self.V):\n",
    "\n",
    "\t\t\n",
    "\t\t\tu = self.minKey(key, mstSet)\n",
    "\n",
    "\t\t\t\n",
    "\t\t\tmstSet[u] = True\n",
    "\n",
    "\t\t\t\n",
    "\t\t\tfor v in range(self.V):\n",
    "\n",
    "\t\t\t\t\n",
    "\t\t\t\tif self.graph[u][v] > 0 and mstSet[v] == False and key[v] > self.graph[u][v]:\n",
    "\t\t\t\t\t\tkey[v] = self.graph[u][v]\n",
    "\t\t\t\t\t\tparent[v] = u\n",
    "\n",
    "\t\tself.printMST(parent)\n",
    "\n",
    "g = Graph(5)\n",
    "g.graph = [ [0, 2, 0, 6, 0],\n",
    "\t\t\t[2, 0, 3, 8, 5],\n",
    "\t\t\t[0, 3, 0, 0, 7],\n",
    "\t\t\t[6, 8, 0, 0, 9],\n",
    "\t\t\t[0, 5, 7, 9, 0]]\n",
    "\n",
    "g.primMST();"
   ]
  },
  {
   "cell_type": "code",
   "execution_count": null,
   "metadata": {},
   "outputs": [],
   "source": []
  }
 ],
 "metadata": {
  "interpreter": {
   "hash": "53b144c10255056ba138318079d6915f61635f604f049884bb1cb292c1bb44d7"
  },
  "kernelspec": {
   "display_name": "Python 3.9.7 ('base')",
   "language": "python",
   "name": "python3"
  },
  "language_info": {
   "codemirror_mode": {
    "name": "ipython",
    "version": 3
   },
   "file_extension": ".py",
   "mimetype": "text/x-python",
   "name": "python",
   "nbconvert_exporter": "python",
   "pygments_lexer": "ipython3",
   "version": "3.9.7"
  },
  "orig_nbformat": 4
 },
 "nbformat": 4,
 "nbformat_minor": 2
}
